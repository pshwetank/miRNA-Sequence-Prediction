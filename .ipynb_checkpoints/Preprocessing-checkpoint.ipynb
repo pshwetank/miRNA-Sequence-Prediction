{
 "cells": [
  {
   "cell_type": "code",
   "execution_count": 44,
   "metadata": {},
   "outputs": [],
   "source": [
    "import numpy as np\n",
    "import pandas as pd\n",
    "from sklearn.metrics import accuracy_score, classification_report\n",
    "from sklearn.model_selection import train_test_split"
   ]
  },
  {
   "cell_type": "code",
   "execution_count": 107,
   "metadata": {},
   "outputs": [],
   "source": [
    "pre_negative = pd.read_csv('dataset/human_MiRNA_DATA.csv')\n",
    "pre_negative.columns = ['seq_name']\n",
    "pre_positive = pd.read_csv('dataset/positive_dataset.csv')"
   ]
  },
  {
   "cell_type": "code",
   "execution_count": 46,
   "metadata": {},
   "outputs": [
    {
     "data": {
      "text/html": [
       "<div>\n",
       "<style scoped>\n",
       "    .dataframe tbody tr th:only-of-type {\n",
       "        vertical-align: middle;\n",
       "    }\n",
       "\n",
       "    .dataframe tbody tr th {\n",
       "        vertical-align: top;\n",
       "    }\n",
       "\n",
       "    .dataframe thead th {\n",
       "        text-align: right;\n",
       "    }\n",
       "</style>\n",
       "<table border=\"1\" class=\"dataframe\">\n",
       "  <thead>\n",
       "    <tr style=\"text-align: right;\">\n",
       "      <th></th>\n",
       "      <th>seq_name</th>\n",
       "    </tr>\n",
       "  </thead>\n",
       "  <tbody>\n",
       "    <tr>\n",
       "      <th>0</th>\n",
       "      <td>&gt;cel-let-7-5p MIMAT0000001 Caenorhabditis eleg...</td>\n",
       "    </tr>\n",
       "    <tr>\n",
       "      <th>1</th>\n",
       "      <td>UGAGGUAGUAGGUUGUAUAGUU</td>\n",
       "    </tr>\n",
       "    <tr>\n",
       "      <th>2</th>\n",
       "      <td>&gt;cel-let-7-3p MIMAT0015091 Caenorhabditis eleg...</td>\n",
       "    </tr>\n",
       "    <tr>\n",
       "      <th>3</th>\n",
       "      <td>CUAUGCAAUUUUCUACCUUACC</td>\n",
       "    </tr>\n",
       "    <tr>\n",
       "      <th>4</th>\n",
       "      <td>&gt;cel-lin-4-5p MIMAT0000002 Caenorhabditis eleg...</td>\n",
       "    </tr>\n",
       "    <tr>\n",
       "      <th>5</th>\n",
       "      <td>UCCCUGAGACCUCAAGUGUGA</td>\n",
       "    </tr>\n",
       "    <tr>\n",
       "      <th>6</th>\n",
       "      <td>&gt;cel-lin-4-3p MIMAT0015092 Caenorhabditis eleg...</td>\n",
       "    </tr>\n",
       "    <tr>\n",
       "      <th>7</th>\n",
       "      <td>ACACCUGGGCUCUCCGGGUACC</td>\n",
       "    </tr>\n",
       "    <tr>\n",
       "      <th>8</th>\n",
       "      <td>&gt;cel-miR-1-5p MIMAT0020301 Caenorhabditis eleg...</td>\n",
       "    </tr>\n",
       "    <tr>\n",
       "      <th>9</th>\n",
       "      <td>CAUACUUCCUUACAUGCCCAUA</td>\n",
       "    </tr>\n",
       "  </tbody>\n",
       "</table>\n",
       "</div>"
      ],
      "text/plain": [
       "                                            seq_name\n",
       "0  >cel-let-7-5p MIMAT0000001 Caenorhabditis eleg...\n",
       "1                             UGAGGUAGUAGGUUGUAUAGUU\n",
       "2  >cel-let-7-3p MIMAT0015091 Caenorhabditis eleg...\n",
       "3                             CUAUGCAAUUUUCUACCUUACC\n",
       "4  >cel-lin-4-5p MIMAT0000002 Caenorhabditis eleg...\n",
       "5                              UCCCUGAGACCUCAAGUGUGA\n",
       "6  >cel-lin-4-3p MIMAT0015092 Caenorhabditis eleg...\n",
       "7                             ACACCUGGGCUCUCCGGGUACC\n",
       "8  >cel-miR-1-5p MIMAT0020301 Caenorhabditis eleg...\n",
       "9                             CAUACUUCCUUACAUGCCCAUA"
      ]
     },
     "execution_count": 46,
     "metadata": {},
     "output_type": "execute_result"
    }
   ],
   "source": [
    "pre_negative[:10]"
   ]
  },
  {
   "cell_type": "code",
   "execution_count": 47,
   "metadata": {},
   "outputs": [],
   "source": [
    "pre_negative['is_seq_name'] = pre_negative['seq_name'].str.find('>')"
   ]
  },
  {
   "cell_type": "code",
   "execution_count": 48,
   "metadata": {},
   "outputs": [
    {
     "data": {
      "text/html": [
       "<div>\n",
       "<style scoped>\n",
       "    .dataframe tbody tr th:only-of-type {\n",
       "        vertical-align: middle;\n",
       "    }\n",
       "\n",
       "    .dataframe tbody tr th {\n",
       "        vertical-align: top;\n",
       "    }\n",
       "\n",
       "    .dataframe thead th {\n",
       "        text-align: right;\n",
       "    }\n",
       "</style>\n",
       "<table border=\"1\" class=\"dataframe\">\n",
       "  <thead>\n",
       "    <tr style=\"text-align: right;\">\n",
       "      <th></th>\n",
       "      <th>seq_name</th>\n",
       "      <th>is_seq_name</th>\n",
       "    </tr>\n",
       "  </thead>\n",
       "  <tbody>\n",
       "    <tr>\n",
       "      <th>0</th>\n",
       "      <td>&gt;cel-let-7-5p MIMAT0000001 Caenorhabditis eleg...</td>\n",
       "      <td>0</td>\n",
       "    </tr>\n",
       "    <tr>\n",
       "      <th>1</th>\n",
       "      <td>UGAGGUAGUAGGUUGUAUAGUU</td>\n",
       "      <td>-1</td>\n",
       "    </tr>\n",
       "    <tr>\n",
       "      <th>2</th>\n",
       "      <td>&gt;cel-let-7-3p MIMAT0015091 Caenorhabditis eleg...</td>\n",
       "      <td>0</td>\n",
       "    </tr>\n",
       "    <tr>\n",
       "      <th>3</th>\n",
       "      <td>CUAUGCAAUUUUCUACCUUACC</td>\n",
       "      <td>-1</td>\n",
       "    </tr>\n",
       "    <tr>\n",
       "      <th>4</th>\n",
       "      <td>&gt;cel-lin-4-5p MIMAT0000002 Caenorhabditis eleg...</td>\n",
       "      <td>0</td>\n",
       "    </tr>\n",
       "    <tr>\n",
       "      <th>5</th>\n",
       "      <td>UCCCUGAGACCUCAAGUGUGA</td>\n",
       "      <td>-1</td>\n",
       "    </tr>\n",
       "    <tr>\n",
       "      <th>6</th>\n",
       "      <td>&gt;cel-lin-4-3p MIMAT0015092 Caenorhabditis eleg...</td>\n",
       "      <td>0</td>\n",
       "    </tr>\n",
       "    <tr>\n",
       "      <th>7</th>\n",
       "      <td>ACACCUGGGCUCUCCGGGUACC</td>\n",
       "      <td>-1</td>\n",
       "    </tr>\n",
       "    <tr>\n",
       "      <th>8</th>\n",
       "      <td>&gt;cel-miR-1-5p MIMAT0020301 Caenorhabditis eleg...</td>\n",
       "      <td>0</td>\n",
       "    </tr>\n",
       "    <tr>\n",
       "      <th>9</th>\n",
       "      <td>CAUACUUCCUUACAUGCCCAUA</td>\n",
       "      <td>-1</td>\n",
       "    </tr>\n",
       "  </tbody>\n",
       "</table>\n",
       "</div>"
      ],
      "text/plain": [
       "                                            seq_name  is_seq_name\n",
       "0  >cel-let-7-5p MIMAT0000001 Caenorhabditis eleg...            0\n",
       "1                             UGAGGUAGUAGGUUGUAUAGUU           -1\n",
       "2  >cel-let-7-3p MIMAT0015091 Caenorhabditis eleg...            0\n",
       "3                             CUAUGCAAUUUUCUACCUUACC           -1\n",
       "4  >cel-lin-4-5p MIMAT0000002 Caenorhabditis eleg...            0\n",
       "5                              UCCCUGAGACCUCAAGUGUGA           -1\n",
       "6  >cel-lin-4-3p MIMAT0015092 Caenorhabditis eleg...            0\n",
       "7                             ACACCUGGGCUCUCCGGGUACC           -1\n",
       "8  >cel-miR-1-5p MIMAT0020301 Caenorhabditis eleg...            0\n",
       "9                             CAUACUUCCUUACAUGCCCAUA           -1"
      ]
     },
     "execution_count": 48,
     "metadata": {},
     "output_type": "execute_result"
    }
   ],
   "source": [
    "pre_negative[:10]"
   ]
  },
  {
   "cell_type": "code",
   "execution_count": 49,
   "metadata": {},
   "outputs": [],
   "source": [
    "seq_names = pre_negative.loc[pre_negative['is_seq_name'] == 0]\n",
    "seq = pre_negative.loc[pre_negative['is_seq_name'] == -1]\n",
    "seq_names = seq_names['seq_name']\n",
    "seq = seq['seq_name']"
   ]
  },
  {
   "cell_type": "code",
   "execution_count": 50,
   "metadata": {},
   "outputs": [
    {
     "data": {
      "text/plain": [
       "0     >cel-let-7-5p MIMAT0000001 Caenorhabditis eleg...\n",
       "2     >cel-let-7-3p MIMAT0015091 Caenorhabditis eleg...\n",
       "4     >cel-lin-4-5p MIMAT0000002 Caenorhabditis eleg...\n",
       "6     >cel-lin-4-3p MIMAT0015092 Caenorhabditis eleg...\n",
       "8     >cel-miR-1-5p MIMAT0020301 Caenorhabditis eleg...\n",
       "10    >cel-miR-1-3p MIMAT0000003 Caenorhabditis eleg...\n",
       "12    >cel-miR-2-5p MIMAT0020302 Caenorhabditis eleg...\n",
       "14    >cel-miR-2-3p MIMAT0000004 Caenorhabditis eleg...\n",
       "16    >cel-miR-34-5p MIMAT0000005 Caenorhabditis ele...\n",
       "18    >cel-miR-34-3p MIMAT0015093 Caenorhabditis ele...\n",
       "Name: seq_name, dtype: object"
      ]
     },
     "execution_count": 50,
     "metadata": {},
     "output_type": "execute_result"
    }
   ],
   "source": [
    "seq_names[:10]"
   ]
  },
  {
   "cell_type": "code",
   "execution_count": 51,
   "metadata": {},
   "outputs": [
    {
     "data": {
      "text/plain": [
       "1      UGAGGUAGUAGGUUGUAUAGUU\n",
       "3      CUAUGCAAUUUUCUACCUUACC\n",
       "5       UCCCUGAGACCUCAAGUGUGA\n",
       "7      ACACCUGGGCUCUCCGGGUACC\n",
       "9      CAUACUUCCUUACAUGCCCAUA\n",
       "11      UGGAAUGUAAAGAAGUAUGUA\n",
       "13     CAUCAAAGCGGUGGUUGAUGUG\n",
       "15    UAUCACAGCCAGCUUUGAUGUGC\n",
       "17     AGGCAGUGUGGUUAGCUGGUUG\n",
       "19     ACGGCUACCUUCACUGCCACCC\n",
       "Name: seq_name, dtype: object"
      ]
     },
     "execution_count": 51,
     "metadata": {},
     "output_type": "execute_result"
    }
   ],
   "source": [
    "seq[:10]"
   ]
  },
  {
   "cell_type": "code",
   "execution_count": 57,
   "metadata": {},
   "outputs": [],
   "source": [
    "negative_dataset = pd.DataFrame(columns = ['seq_name', 'sequence', 'is_mulberry_miRNA'])"
   ]
  },
  {
   "cell_type": "code",
   "execution_count": 58,
   "metadata": {},
   "outputs": [],
   "source": [
    "negative_dataset['seq_name'] = seq_names.to_list()"
   ]
  },
  {
   "cell_type": "code",
   "execution_count": 59,
   "metadata": {},
   "outputs": [],
   "source": [
    "negative_dataset['sequence'] = seq.to_list()"
   ]
  },
  {
   "cell_type": "code",
   "execution_count": 60,
   "metadata": {},
   "outputs": [],
   "source": [
    "negative_dataset['is_mulberry_miRNA'] = 0"
   ]
  },
  {
   "cell_type": "code",
   "execution_count": 136,
   "metadata": {},
   "outputs": [
    {
     "data": {
      "text/html": [
       "<div>\n",
       "<style scoped>\n",
       "    .dataframe tbody tr th:only-of-type {\n",
       "        vertical-align: middle;\n",
       "    }\n",
       "\n",
       "    .dataframe tbody tr th {\n",
       "        vertical-align: top;\n",
       "    }\n",
       "\n",
       "    .dataframe thead th {\n",
       "        text-align: right;\n",
       "    }\n",
       "</style>\n",
       "<table border=\"1\" class=\"dataframe\">\n",
       "  <thead>\n",
       "    <tr style=\"text-align: right;\">\n",
       "      <th></th>\n",
       "      <th>seq_name</th>\n",
       "      <th>sequence</th>\n",
       "      <th>is_mulberry_miRNA</th>\n",
       "    </tr>\n",
       "  </thead>\n",
       "  <tbody>\n",
       "    <tr>\n",
       "      <th>0</th>\n",
       "      <td>&gt;cel-let-7-5p MIMAT0000001 Caenorhabditis eleg...</td>\n",
       "      <td>UGAGGUAGUAGGUUGUAUAGUU</td>\n",
       "      <td>0</td>\n",
       "    </tr>\n",
       "    <tr>\n",
       "      <th>1</th>\n",
       "      <td>&gt;cel-let-7-3p MIMAT0015091 Caenorhabditis eleg...</td>\n",
       "      <td>CUAUGCAAUUUUCUACCUUACC</td>\n",
       "      <td>0</td>\n",
       "    </tr>\n",
       "    <tr>\n",
       "      <th>2</th>\n",
       "      <td>&gt;cel-lin-4-5p MIMAT0000002 Caenorhabditis eleg...</td>\n",
       "      <td>UCCCUGAGACCUCAAGUGUGA</td>\n",
       "      <td>0</td>\n",
       "    </tr>\n",
       "    <tr>\n",
       "      <th>3</th>\n",
       "      <td>&gt;cel-lin-4-3p MIMAT0015092 Caenorhabditis eleg...</td>\n",
       "      <td>ACACCUGGGCUCUCCGGGUACC</td>\n",
       "      <td>0</td>\n",
       "    </tr>\n",
       "    <tr>\n",
       "      <th>4</th>\n",
       "      <td>&gt;cel-miR-1-5p MIMAT0020301 Caenorhabditis eleg...</td>\n",
       "      <td>CAUACUUCCUUACAUGCCCAUA</td>\n",
       "      <td>0</td>\n",
       "    </tr>\n",
       "  </tbody>\n",
       "</table>\n",
       "</div>"
      ],
      "text/plain": [
       "                                            seq_name                sequence  \\\n",
       "0  >cel-let-7-5p MIMAT0000001 Caenorhabditis eleg...  UGAGGUAGUAGGUUGUAUAGUU   \n",
       "1  >cel-let-7-3p MIMAT0015091 Caenorhabditis eleg...  CUAUGCAAUUUUCUACCUUACC   \n",
       "2  >cel-lin-4-5p MIMAT0000002 Caenorhabditis eleg...   UCCCUGAGACCUCAAGUGUGA   \n",
       "3  >cel-lin-4-3p MIMAT0015092 Caenorhabditis eleg...  ACACCUGGGCUCUCCGGGUACC   \n",
       "4  >cel-miR-1-5p MIMAT0020301 Caenorhabditis eleg...  CAUACUUCCUUACAUGCCCAUA   \n",
       "\n",
       "   is_mulberry_miRNA  \n",
       "0                  0  \n",
       "1                  0  \n",
       "2                  0  \n",
       "3                  0  \n",
       "4                  0  "
      ]
     },
     "execution_count": 136,
     "metadata": {},
     "output_type": "execute_result"
    }
   ],
   "source": [
    "negative_dataset[:5]"
   ]
  },
  {
   "cell_type": "code",
   "execution_count": 108,
   "metadata": {},
   "outputs": [],
   "source": [
    "header = pre_positive.iloc[0]\n",
    "pre_positive = pd.DataFrame(pre_positive.values[1:], columns = header)"
   ]
  },
  {
   "cell_type": "code",
   "execution_count": 109,
   "metadata": {},
   "outputs": [
    {
     "data": {
      "text/html": [
       "<div>\n",
       "<style scoped>\n",
       "    .dataframe tbody tr th:only-of-type {\n",
       "        vertical-align: middle;\n",
       "    }\n",
       "\n",
       "    .dataframe tbody tr th {\n",
       "        vertical-align: top;\n",
       "    }\n",
       "\n",
       "    .dataframe thead th {\n",
       "        text-align: right;\n",
       "    }\n",
       "</style>\n",
       "<table border=\"1\" class=\"dataframe\">\n",
       "  <thead>\n",
       "    <tr style=\"text-align: right;\">\n",
       "      <th></th>\n",
       "      <th>mi_rna</th>\n",
       "      <th>l_5p</th>\n",
       "      <th>l_3p</th>\n",
       "      <th>l_reads</th>\n",
       "      <th>f_5p</th>\n",
       "      <th>f_3p</th>\n",
       "      <th>f_reads</th>\n",
       "      <th>b_5p</th>\n",
       "      <th>b_3p</th>\n",
       "      <th>b_reads</th>\n",
       "      <th>seq_5p_5_3</th>\n",
       "      <th>seq_3p_5_3</th>\n",
       "      <th>seq_premiRNA_5_3</th>\n",
       "      <th>premirna_location</th>\n",
       "      <th>mfe_kcal_per_mol_of premirna</th>\n",
       "    </tr>\n",
       "  </thead>\n",
       "  <tbody>\n",
       "    <tr>\n",
       "      <th>0</th>\n",
       "      <td>mno-miRn1</td>\n",
       "      <td>1</td>\n",
       "      <td>0</td>\n",
       "      <td>1</td>\n",
       "      <td>2</td>\n",
       "      <td>0</td>\n",
       "      <td>2</td>\n",
       "      <td>10</td>\n",
       "      <td>0</td>\n",
       "      <td>10</td>\n",
       "      <td>CGTTCCCGTGGCGGTTGCAGGGC</td>\n",
       "      <td>-</td>\n",
       "      <td>TGTCGCCGTTCCCGTGGCGGTTGCAGGGCGAAGCTCTCTTCGTGAT...</td>\n",
       "      <td>C10452211:48:120:-</td>\n",
       "      <td>-46.6</td>\n",
       "    </tr>\n",
       "    <tr>\n",
       "      <th>1</th>\n",
       "      <td>mno-miRn2-1</td>\n",
       "      <td>18</td>\n",
       "      <td>0</td>\n",
       "      <td>18</td>\n",
       "      <td>11</td>\n",
       "      <td>0</td>\n",
       "      <td>11</td>\n",
       "      <td>5</td>\n",
       "      <td>0</td>\n",
       "      <td>5</td>\n",
       "      <td>TCTGATGGGGGCTGAAAATCA</td>\n",
       "      <td>-</td>\n",
       "      <td>GAAAGTAAGCTCTGATGGGGGCTGAAAATCAGCCCCCATCAGCCGC...</td>\n",
       "      <td>C10661187:10:94:-</td>\n",
       "      <td>-60.7</td>\n",
       "    </tr>\n",
       "    <tr>\n",
       "      <th>2</th>\n",
       "      <td>mno-miRn2-2</td>\n",
       "      <td>18</td>\n",
       "      <td>0</td>\n",
       "      <td>18</td>\n",
       "      <td>11</td>\n",
       "      <td>0</td>\n",
       "      <td>11</td>\n",
       "      <td>5</td>\n",
       "      <td>0</td>\n",
       "      <td>5</td>\n",
       "      <td>TCTGATGGGGGCTGAAAATCA</td>\n",
       "      <td>-</td>\n",
       "      <td>GATTGTCAGCTCTGATGGGGGCTGAAAATCAGTCCCCATCAGCCCC...</td>\n",
       "      <td>scaffold485:876133:876219:+</td>\n",
       "      <td>-57.1</td>\n",
       "    </tr>\n",
       "    <tr>\n",
       "      <th>3</th>\n",
       "      <td>mno-miRn2-3</td>\n",
       "      <td>18</td>\n",
       "      <td>0</td>\n",
       "      <td>18</td>\n",
       "      <td>11</td>\n",
       "      <td>0</td>\n",
       "      <td>11</td>\n",
       "      <td>5</td>\n",
       "      <td>0</td>\n",
       "      <td>5</td>\n",
       "      <td>TCTGATGGGGGCTGAAAATCA</td>\n",
       "      <td>-</td>\n",
       "      <td>TCAGCTCTGATGGGGGCTGAAAATCAGCCCCCATCAGCCCCCATGG...</td>\n",
       "      <td>C10789358:1:133:+</td>\n",
       "      <td>-98.8</td>\n",
       "    </tr>\n",
       "    <tr>\n",
       "      <th>4</th>\n",
       "      <td>mno-miRn2-4</td>\n",
       "      <td>0</td>\n",
       "      <td>18</td>\n",
       "      <td>18</td>\n",
       "      <td>0</td>\n",
       "      <td>11</td>\n",
       "      <td>11</td>\n",
       "      <td>0</td>\n",
       "      <td>5</td>\n",
       "      <td>5</td>\n",
       "      <td>-</td>\n",
       "      <td>TCTGATGGGGGCTGAAAATCA</td>\n",
       "      <td>CCCAATGGGGGCTGATTTTTAGCCCCCATTGGGGATGAAAGTCAGC...</td>\n",
       "      <td>scaffold1623:55201:55277:-</td>\n",
       "      <td>-60.9</td>\n",
       "    </tr>\n",
       "  </tbody>\n",
       "</table>\n",
       "</div>"
      ],
      "text/plain": [
       "0       mi_rna l_5p l_3p l_reads f_5p f_3p f_reads b_5p b_3p b_reads  \\\n",
       "0    mno-miRn1    1    0       1    2    0       2   10    0      10   \n",
       "1  mno-miRn2-1   18    0      18   11    0      11    5    0       5   \n",
       "2  mno-miRn2-2   18    0      18   11    0      11    5    0       5   \n",
       "3  mno-miRn2-3   18    0      18   11    0      11    5    0       5   \n",
       "4  mno-miRn2-4    0   18      18    0   11      11    0    5       5   \n",
       "\n",
       "0               seq_5p_5_3             seq_3p_5_3  \\\n",
       "0  CGTTCCCGTGGCGGTTGCAGGGC                      -   \n",
       "1    TCTGATGGGGGCTGAAAATCA                      -   \n",
       "2    TCTGATGGGGGCTGAAAATCA                      -   \n",
       "3    TCTGATGGGGGCTGAAAATCA                      -   \n",
       "4                        -  TCTGATGGGGGCTGAAAATCA   \n",
       "\n",
       "0                                   seq_premiRNA_5_3  \\\n",
       "0  TGTCGCCGTTCCCGTGGCGGTTGCAGGGCGAAGCTCTCTTCGTGAT...   \n",
       "1  GAAAGTAAGCTCTGATGGGGGCTGAAAATCAGCCCCCATCAGCCGC...   \n",
       "2  GATTGTCAGCTCTGATGGGGGCTGAAAATCAGTCCCCATCAGCCCC...   \n",
       "3  TCAGCTCTGATGGGGGCTGAAAATCAGCCCCCATCAGCCCCCATGG...   \n",
       "4  CCCAATGGGGGCTGATTTTTAGCCCCCATTGGGGATGAAAGTCAGC...   \n",
       "\n",
       "0            premirna_location mfe_kcal_per_mol_of premirna  \n",
       "0           C10452211:48:120:-                        -46.6  \n",
       "1            C10661187:10:94:-                        -60.7  \n",
       "2  scaffold485:876133:876219:+                        -57.1  \n",
       "3            C10789358:1:133:+                        -98.8  \n",
       "4   scaffold1623:55201:55277:-                        -60.9  "
      ]
     },
     "execution_count": 109,
     "metadata": {},
     "output_type": "execute_result"
    }
   ],
   "source": [
    "pre_positive[:5]"
   ]
  },
  {
   "cell_type": "code",
   "execution_count": 122,
   "metadata": {},
   "outputs": [],
   "source": [
    "p5_pos = pre_positive[['mi_rna','seq_5p_5_3']]\n",
    "p3_pos = pre_positive[['mi_rna','seq_3p_5_3']]"
   ]
  },
  {
   "cell_type": "code",
   "execution_count": 123,
   "metadata": {},
   "outputs": [],
   "source": [
    "p5_pos = p5_pos.loc[p5_pos['seq_5p_5_3'] != '-']\n",
    "p3_pos = p3_pos.loc[p3_pos['seq_3p_5_3'] != '-']"
   ]
  },
  {
   "cell_type": "code",
   "execution_count": 125,
   "metadata": {},
   "outputs": [],
   "source": [
    "p5_pos.columns = ['seq_name', 'sequence']\n",
    "p3_pos.columns = ['seq_name', 'sequence']"
   ]
  },
  {
   "cell_type": "code",
   "execution_count": 128,
   "metadata": {},
   "outputs": [],
   "source": [
    "positive_dataset = p5_pos.append(p3_pos, ignore_index = True)"
   ]
  },
  {
   "cell_type": "code",
   "execution_count": 129,
   "metadata": {},
   "outputs": [],
   "source": [
    "positive_dataset['is_mulberry_miRNA'] = 1"
   ]
  },
  {
   "cell_type": "code",
   "execution_count": 130,
   "metadata": {
    "scrolled": true
   },
   "outputs": [
    {
     "data": {
      "text/html": [
       "<div>\n",
       "<style scoped>\n",
       "    .dataframe tbody tr th:only-of-type {\n",
       "        vertical-align: middle;\n",
       "    }\n",
       "\n",
       "    .dataframe tbody tr th {\n",
       "        vertical-align: top;\n",
       "    }\n",
       "\n",
       "    .dataframe thead th {\n",
       "        text-align: right;\n",
       "    }\n",
       "</style>\n",
       "<table border=\"1\" class=\"dataframe\">\n",
       "  <thead>\n",
       "    <tr style=\"text-align: right;\">\n",
       "      <th></th>\n",
       "      <th>seq_name</th>\n",
       "      <th>sequence</th>\n",
       "      <th>is_mulberry_miRNA</th>\n",
       "    </tr>\n",
       "  </thead>\n",
       "  <tbody>\n",
       "    <tr>\n",
       "      <th>0</th>\n",
       "      <td>mno-miRn1</td>\n",
       "      <td>CGTTCCCGTGGCGGTTGCAGGGC</td>\n",
       "      <td>1</td>\n",
       "    </tr>\n",
       "    <tr>\n",
       "      <th>1</th>\n",
       "      <td>mno-miRn2-1</td>\n",
       "      <td>TCTGATGGGGGCTGAAAATCA</td>\n",
       "      <td>1</td>\n",
       "    </tr>\n",
       "    <tr>\n",
       "      <th>2</th>\n",
       "      <td>mno-miRn2-2</td>\n",
       "      <td>TCTGATGGGGGCTGAAAATCA</td>\n",
       "      <td>1</td>\n",
       "    </tr>\n",
       "    <tr>\n",
       "      <th>3</th>\n",
       "      <td>mno-miRn2-3</td>\n",
       "      <td>TCTGATGGGGGCTGAAAATCA</td>\n",
       "      <td>1</td>\n",
       "    </tr>\n",
       "    <tr>\n",
       "      <th>4</th>\n",
       "      <td>mno-miRn3</td>\n",
       "      <td>ATATGAGGAAAGAATGATGAT</td>\n",
       "      <td>1</td>\n",
       "    </tr>\n",
       "  </tbody>\n",
       "</table>\n",
       "</div>"
      ],
      "text/plain": [
       "      seq_name                 sequence  is_mulberry_miRNA\n",
       "0    mno-miRn1  CGTTCCCGTGGCGGTTGCAGGGC                  1\n",
       "1  mno-miRn2-1    TCTGATGGGGGCTGAAAATCA                  1\n",
       "2  mno-miRn2-2    TCTGATGGGGGCTGAAAATCA                  1\n",
       "3  mno-miRn2-3    TCTGATGGGGGCTGAAAATCA                  1\n",
       "4    mno-miRn3    ATATGAGGAAAGAATGATGAT                  1"
      ]
     },
     "execution_count": 130,
     "metadata": {},
     "output_type": "execute_result"
    }
   ],
   "source": [
    "positive_dataset[:5]"
   ]
  },
  {
   "cell_type": "code",
   "execution_count": 134,
   "metadata": {},
   "outputs": [
    {
     "name": "stdout",
     "output_type": "stream",
     "text": [
      "Total positive examples:  480\n"
     ]
    }
   ],
   "source": [
    "print(\"Total positive examples: \", len(positive_dataset))"
   ]
  },
  {
   "cell_type": "code",
   "execution_count": 131,
   "metadata": {},
   "outputs": [],
   "source": [
    "miRNA_dataset = positive_dataset.append(negative_dataset, ignore_index = True)"
   ]
  },
  {
   "cell_type": "code",
   "execution_count": 132,
   "metadata": {},
   "outputs": [],
   "source": [
    "miRNA_dataset = miRNA_dataset.sample(frac = 1).reset_index(drop = True)"
   ]
  },
  {
   "cell_type": "code",
   "execution_count": 133,
   "metadata": {},
   "outputs": [
    {
     "data": {
      "text/html": [
       "<div>\n",
       "<style scoped>\n",
       "    .dataframe tbody tr th:only-of-type {\n",
       "        vertical-align: middle;\n",
       "    }\n",
       "\n",
       "    .dataframe tbody tr th {\n",
       "        vertical-align: top;\n",
       "    }\n",
       "\n",
       "    .dataframe thead th {\n",
       "        text-align: right;\n",
       "    }\n",
       "</style>\n",
       "<table border=\"1\" class=\"dataframe\">\n",
       "  <thead>\n",
       "    <tr style=\"text-align: right;\">\n",
       "      <th></th>\n",
       "      <th>seq_name</th>\n",
       "      <th>sequence</th>\n",
       "      <th>is_mulberry_miRNA</th>\n",
       "    </tr>\n",
       "  </thead>\n",
       "  <tbody>\n",
       "    <tr>\n",
       "      <th>0</th>\n",
       "      <td>&gt;tca-miR-279a-3p MIMAT0008383 Tribolium castan...</td>\n",
       "      <td>UGACUAGAUCCACACUCAUUAA</td>\n",
       "      <td>0</td>\n",
       "    </tr>\n",
       "    <tr>\n",
       "      <th>1</th>\n",
       "      <td>&gt;chi-miR-129-3p MIMAT0035937 Capra hircus miR-...</td>\n",
       "      <td>AAGCCCUUACCCCAAAAAGCAU</td>\n",
       "      <td>0</td>\n",
       "    </tr>\n",
       "    <tr>\n",
       "      <th>2</th>\n",
       "      <td>&gt;ocu-miR-424-3p MIMAT0048444 Oryctolagus cunic...</td>\n",
       "      <td>CAAAACGUGAGGCGCUGCUAUA</td>\n",
       "      <td>0</td>\n",
       "    </tr>\n",
       "    <tr>\n",
       "      <th>3</th>\n",
       "      <td>&gt;dvi-miR-929-5p MIMAT0035572 Drosophila virili...</td>\n",
       "      <td>AAAUUGACUCUAGUAGGGAGU</td>\n",
       "      <td>0</td>\n",
       "    </tr>\n",
       "    <tr>\n",
       "      <th>4</th>\n",
       "      <td>&gt;dre-miR-2187-3p MIMAT0011297 Danio rerio miR-...</td>\n",
       "      <td>UUACAGGCUAUGCUAAUCUAUG</td>\n",
       "      <td>0</td>\n",
       "    </tr>\n",
       "  </tbody>\n",
       "</table>\n",
       "</div>"
      ],
      "text/plain": [
       "                                            seq_name                sequence  \\\n",
       "0  >tca-miR-279a-3p MIMAT0008383 Tribolium castan...  UGACUAGAUCCACACUCAUUAA   \n",
       "1  >chi-miR-129-3p MIMAT0035937 Capra hircus miR-...  AAGCCCUUACCCCAAAAAGCAU   \n",
       "2  >ocu-miR-424-3p MIMAT0048444 Oryctolagus cunic...  CAAAACGUGAGGCGCUGCUAUA   \n",
       "3  >dvi-miR-929-5p MIMAT0035572 Drosophila virili...   AAAUUGACUCUAGUAGGGAGU   \n",
       "4  >dre-miR-2187-3p MIMAT0011297 Danio rerio miR-...  UUACAGGCUAUGCUAAUCUAUG   \n",
       "\n",
       "   is_mulberry_miRNA  \n",
       "0                  0  \n",
       "1                  0  \n",
       "2                  0  \n",
       "3                  0  \n",
       "4                  0  "
      ]
     },
     "execution_count": 133,
     "metadata": {},
     "output_type": "execute_result"
    }
   ],
   "source": [
    "miRNA_dataset[:5]"
   ]
  },
  {
   "cell_type": "code",
   "execution_count": 135,
   "metadata": {},
   "outputs": [
    {
     "name": "stdout",
     "output_type": "stream",
     "text": [
      "Total datapoints:  49365\n"
     ]
    }
   ],
   "source": [
    "print(\"Total datapoints: \", len(miRNA_dataset))"
   ]
  },
  {
   "cell_type": "code",
   "execution_count": 138,
   "metadata": {},
   "outputs": [],
   "source": [
    "def seq_padding(seq, max_length):\n",
    "    l = len(seq)\n",
    "    n_pad = max_length - l\n",
    "    pad = n_pad * 'X'\n",
    "    seq_hat = seq + pad\n",
    "    return seq_hat"
   ]
  },
  {
   "cell_type": "code",
   "execution_count": 139,
   "metadata": {},
   "outputs": [],
   "source": [
    "def char2vec(dataset):\n",
    "    base2idx = {'A':1,'C':2, 'T':3,'G':4,'U':3,'X':5}\n",
    "    seq = dataset['sequence'].values\n",
    "    str_len = [len(s) for s in seq]\n",
    "    max_seq_len = max(str_len)\n",
    "    n_seqs = len(seq)\n",
    "    dset = np.zeros((n_seqs, max_seq_len))\n",
    "    padded_seqs = [seq_padding(x, max_seq_len) for x in seq]\n",
    "    for i, seg in enumerate(padded_seqs):\n",
    "        strs = list(seg)\n",
    "        vec = np.array([base2idx[i] for i in strs])\n",
    "        dset[i,:] = vec\n",
    "    return dset"
   ]
  },
  {
   "cell_type": "code",
   "execution_count": 142,
   "metadata": {},
   "outputs": [],
   "source": [
    "dset_matrix = char2vec(miRNA_dataset)"
   ]
  },
  {
   "cell_type": "code",
   "execution_count": 143,
   "metadata": {},
   "outputs": [
    {
     "data": {
      "text/plain": [
       "(49365, 34)"
      ]
     },
     "execution_count": 143,
     "metadata": {},
     "output_type": "execute_result"
    }
   ],
   "source": [
    "dset_matrix.shape"
   ]
  },
  {
   "cell_type": "code",
   "execution_count": 146,
   "metadata": {},
   "outputs": [],
   "source": [
    "labels = miRNA_dataset['is_mulberry_miRNA'].to_numpy()"
   ]
  },
  {
   "cell_type": "code",
   "execution_count": 149,
   "metadata": {},
   "outputs": [],
   "source": [
    "np.save('./dataset/labels.npy', labels)\n",
    "np.save('./dataset/data_matrix.npy', dset_matrix)"
   ]
  }
 ],
 "metadata": {
  "kernelspec": {
   "display_name": "Python 3",
   "language": "python",
   "name": "python3"
  },
  "language_info": {
   "codemirror_mode": {
    "name": "ipython",
    "version": 3
   },
   "file_extension": ".py",
   "mimetype": "text/x-python",
   "name": "python",
   "nbconvert_exporter": "python",
   "pygments_lexer": "ipython3",
   "version": "3.7.7"
  }
 },
 "nbformat": 4,
 "nbformat_minor": 2
}
