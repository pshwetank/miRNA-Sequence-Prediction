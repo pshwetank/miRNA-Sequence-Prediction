{
 "cells": [
  {
   "cell_type": "code",
   "execution_count": 1,
   "metadata": {},
   "outputs": [],
   "source": [
    "import numpy as np\n",
    "import pandas as pd\n",
    "from sklearn.metrics import accuracy_score, classification_report\n",
    "from sklearn.model_selection import train_test_split"
   ]
  },
  {
   "cell_type": "code",
   "execution_count": 2,
   "metadata": {},
   "outputs": [],
   "source": [
    "pre_negative = pd.read_csv('dataset/human_MiRNA_DATA.csv')\n",
    "pre_negative.columns = ['seq_name']\n",
    "pre_positive = pd.read_csv('dataset/positive_dataset.csv')"
   ]
  },
  {
   "cell_type": "code",
   "execution_count": 3,
   "metadata": {},
   "outputs": [
    {
     "data": {
      "text/html": [
       "<div>\n",
       "<style scoped>\n",
       "    .dataframe tbody tr th:only-of-type {\n",
       "        vertical-align: middle;\n",
       "    }\n",
       "\n",
       "    .dataframe tbody tr th {\n",
       "        vertical-align: top;\n",
       "    }\n",
       "\n",
       "    .dataframe thead th {\n",
       "        text-align: right;\n",
       "    }\n",
       "</style>\n",
       "<table border=\"1\" class=\"dataframe\">\n",
       "  <thead>\n",
       "    <tr style=\"text-align: right;\">\n",
       "      <th></th>\n",
       "      <th>seq_name</th>\n",
       "    </tr>\n",
       "  </thead>\n",
       "  <tbody>\n",
       "    <tr>\n",
       "      <th>0</th>\n",
       "      <td>&gt;cel-let-7-5p MIMAT0000001 Caenorhabditis eleg...</td>\n",
       "    </tr>\n",
       "    <tr>\n",
       "      <th>1</th>\n",
       "      <td>UGAGGUAGUAGGUUGUAUAGUU</td>\n",
       "    </tr>\n",
       "    <tr>\n",
       "      <th>2</th>\n",
       "      <td>&gt;cel-let-7-3p MIMAT0015091 Caenorhabditis eleg...</td>\n",
       "    </tr>\n",
       "    <tr>\n",
       "      <th>3</th>\n",
       "      <td>CUAUGCAAUUUUCUACCUUACC</td>\n",
       "    </tr>\n",
       "    <tr>\n",
       "      <th>4</th>\n",
       "      <td>&gt;cel-lin-4-5p MIMAT0000002 Caenorhabditis eleg...</td>\n",
       "    </tr>\n",
       "    <tr>\n",
       "      <th>5</th>\n",
       "      <td>UCCCUGAGACCUCAAGUGUGA</td>\n",
       "    </tr>\n",
       "    <tr>\n",
       "      <th>6</th>\n",
       "      <td>&gt;cel-lin-4-3p MIMAT0015092 Caenorhabditis eleg...</td>\n",
       "    </tr>\n",
       "    <tr>\n",
       "      <th>7</th>\n",
       "      <td>ACACCUGGGCUCUCCGGGUACC</td>\n",
       "    </tr>\n",
       "    <tr>\n",
       "      <th>8</th>\n",
       "      <td>&gt;cel-miR-1-5p MIMAT0020301 Caenorhabditis eleg...</td>\n",
       "    </tr>\n",
       "    <tr>\n",
       "      <th>9</th>\n",
       "      <td>CAUACUUCCUUACAUGCCCAUA</td>\n",
       "    </tr>\n",
       "  </tbody>\n",
       "</table>\n",
       "</div>"
      ],
      "text/plain": [
       "                                            seq_name\n",
       "0  >cel-let-7-5p MIMAT0000001 Caenorhabditis eleg...\n",
       "1                             UGAGGUAGUAGGUUGUAUAGUU\n",
       "2  >cel-let-7-3p MIMAT0015091 Caenorhabditis eleg...\n",
       "3                             CUAUGCAAUUUUCUACCUUACC\n",
       "4  >cel-lin-4-5p MIMAT0000002 Caenorhabditis eleg...\n",
       "5                              UCCCUGAGACCUCAAGUGUGA\n",
       "6  >cel-lin-4-3p MIMAT0015092 Caenorhabditis eleg...\n",
       "7                             ACACCUGGGCUCUCCGGGUACC\n",
       "8  >cel-miR-1-5p MIMAT0020301 Caenorhabditis eleg...\n",
       "9                             CAUACUUCCUUACAUGCCCAUA"
      ]
     },
     "execution_count": 3,
     "metadata": {},
     "output_type": "execute_result"
    }
   ],
   "source": [
    "pre_negative[:10]"
   ]
  },
  {
   "cell_type": "code",
   "execution_count": 4,
   "metadata": {},
   "outputs": [],
   "source": [
    "pre_negative['is_seq_name'] = pre_negative['seq_name'].str.find('>')"
   ]
  },
  {
   "cell_type": "code",
   "execution_count": 5,
   "metadata": {},
   "outputs": [
    {
     "data": {
      "text/html": [
       "<div>\n",
       "<style scoped>\n",
       "    .dataframe tbody tr th:only-of-type {\n",
       "        vertical-align: middle;\n",
       "    }\n",
       "\n",
       "    .dataframe tbody tr th {\n",
       "        vertical-align: top;\n",
       "    }\n",
       "\n",
       "    .dataframe thead th {\n",
       "        text-align: right;\n",
       "    }\n",
       "</style>\n",
       "<table border=\"1\" class=\"dataframe\">\n",
       "  <thead>\n",
       "    <tr style=\"text-align: right;\">\n",
       "      <th></th>\n",
       "      <th>seq_name</th>\n",
       "      <th>is_seq_name</th>\n",
       "    </tr>\n",
       "  </thead>\n",
       "  <tbody>\n",
       "    <tr>\n",
       "      <th>0</th>\n",
       "      <td>&gt;cel-let-7-5p MIMAT0000001 Caenorhabditis eleg...</td>\n",
       "      <td>0</td>\n",
       "    </tr>\n",
       "    <tr>\n",
       "      <th>1</th>\n",
       "      <td>UGAGGUAGUAGGUUGUAUAGUU</td>\n",
       "      <td>-1</td>\n",
       "    </tr>\n",
       "    <tr>\n",
       "      <th>2</th>\n",
       "      <td>&gt;cel-let-7-3p MIMAT0015091 Caenorhabditis eleg...</td>\n",
       "      <td>0</td>\n",
       "    </tr>\n",
       "    <tr>\n",
       "      <th>3</th>\n",
       "      <td>CUAUGCAAUUUUCUACCUUACC</td>\n",
       "      <td>-1</td>\n",
       "    </tr>\n",
       "    <tr>\n",
       "      <th>4</th>\n",
       "      <td>&gt;cel-lin-4-5p MIMAT0000002 Caenorhabditis eleg...</td>\n",
       "      <td>0</td>\n",
       "    </tr>\n",
       "    <tr>\n",
       "      <th>5</th>\n",
       "      <td>UCCCUGAGACCUCAAGUGUGA</td>\n",
       "      <td>-1</td>\n",
       "    </tr>\n",
       "    <tr>\n",
       "      <th>6</th>\n",
       "      <td>&gt;cel-lin-4-3p MIMAT0015092 Caenorhabditis eleg...</td>\n",
       "      <td>0</td>\n",
       "    </tr>\n",
       "    <tr>\n",
       "      <th>7</th>\n",
       "      <td>ACACCUGGGCUCUCCGGGUACC</td>\n",
       "      <td>-1</td>\n",
       "    </tr>\n",
       "    <tr>\n",
       "      <th>8</th>\n",
       "      <td>&gt;cel-miR-1-5p MIMAT0020301 Caenorhabditis eleg...</td>\n",
       "      <td>0</td>\n",
       "    </tr>\n",
       "    <tr>\n",
       "      <th>9</th>\n",
       "      <td>CAUACUUCCUUACAUGCCCAUA</td>\n",
       "      <td>-1</td>\n",
       "    </tr>\n",
       "  </tbody>\n",
       "</table>\n",
       "</div>"
      ],
      "text/plain": [
       "                                            seq_name  is_seq_name\n",
       "0  >cel-let-7-5p MIMAT0000001 Caenorhabditis eleg...            0\n",
       "1                             UGAGGUAGUAGGUUGUAUAGUU           -1\n",
       "2  >cel-let-7-3p MIMAT0015091 Caenorhabditis eleg...            0\n",
       "3                             CUAUGCAAUUUUCUACCUUACC           -1\n",
       "4  >cel-lin-4-5p MIMAT0000002 Caenorhabditis eleg...            0\n",
       "5                              UCCCUGAGACCUCAAGUGUGA           -1\n",
       "6  >cel-lin-4-3p MIMAT0015092 Caenorhabditis eleg...            0\n",
       "7                             ACACCUGGGCUCUCCGGGUACC           -1\n",
       "8  >cel-miR-1-5p MIMAT0020301 Caenorhabditis eleg...            0\n",
       "9                             CAUACUUCCUUACAUGCCCAUA           -1"
      ]
     },
     "execution_count": 5,
     "metadata": {},
     "output_type": "execute_result"
    }
   ],
   "source": [
    "pre_negative[:10]"
   ]
  },
  {
   "cell_type": "code",
   "execution_count": 6,
   "metadata": {},
   "outputs": [],
   "source": [
    "seq_names = pre_negative.loc[pre_negative['is_seq_name'] == 0]\n",
    "seq = pre_negative.loc[pre_negative['is_seq_name'] == -1]\n",
    "seq_names = seq_names['seq_name']\n",
    "seq = seq['seq_name']"
   ]
  },
  {
   "cell_type": "code",
   "execution_count": 7,
   "metadata": {},
   "outputs": [
    {
     "data": {
      "text/plain": [
       "0     >cel-let-7-5p MIMAT0000001 Caenorhabditis eleg...\n",
       "2     >cel-let-7-3p MIMAT0015091 Caenorhabditis eleg...\n",
       "4     >cel-lin-4-5p MIMAT0000002 Caenorhabditis eleg...\n",
       "6     >cel-lin-4-3p MIMAT0015092 Caenorhabditis eleg...\n",
       "8     >cel-miR-1-5p MIMAT0020301 Caenorhabditis eleg...\n",
       "10    >cel-miR-1-3p MIMAT0000003 Caenorhabditis eleg...\n",
       "12    >cel-miR-2-5p MIMAT0020302 Caenorhabditis eleg...\n",
       "14    >cel-miR-2-3p MIMAT0000004 Caenorhabditis eleg...\n",
       "16    >cel-miR-34-5p MIMAT0000005 Caenorhabditis ele...\n",
       "18    >cel-miR-34-3p MIMAT0015093 Caenorhabditis ele...\n",
       "Name: seq_name, dtype: object"
      ]
     },
     "execution_count": 7,
     "metadata": {},
     "output_type": "execute_result"
    }
   ],
   "source": [
    "seq_names[:10]"
   ]
  },
  {
   "cell_type": "code",
   "execution_count": 8,
   "metadata": {},
   "outputs": [
    {
     "data": {
      "text/plain": [
       "1      UGAGGUAGUAGGUUGUAUAGUU\n",
       "3      CUAUGCAAUUUUCUACCUUACC\n",
       "5       UCCCUGAGACCUCAAGUGUGA\n",
       "7      ACACCUGGGCUCUCCGGGUACC\n",
       "9      CAUACUUCCUUACAUGCCCAUA\n",
       "11      UGGAAUGUAAAGAAGUAUGUA\n",
       "13     CAUCAAAGCGGUGGUUGAUGUG\n",
       "15    UAUCACAGCCAGCUUUGAUGUGC\n",
       "17     AGGCAGUGUGGUUAGCUGGUUG\n",
       "19     ACGGCUACCUUCACUGCCACCC\n",
       "Name: seq_name, dtype: object"
      ]
     },
     "execution_count": 8,
     "metadata": {},
     "output_type": "execute_result"
    }
   ],
   "source": [
    "seq[:10]"
   ]
  },
  {
   "cell_type": "code",
   "execution_count": 33,
   "metadata": {},
   "outputs": [],
   "source": [
    "negative_dataset = pd.DataFrame(columns = ['seq_name', 'sequence', 'is_mulberry_miRNA'])"
   ]
  },
  {
   "cell_type": "code",
   "execution_count": 34,
   "metadata": {},
   "outputs": [],
   "source": [
    "negative_dataset['seq_name'] = seq_names.to_list()"
   ]
  },
  {
   "cell_type": "code",
   "execution_count": 35,
   "metadata": {},
   "outputs": [],
   "source": [
    "negative_dataset['sequence'] = seq.to_list()"
   ]
  },
  {
   "cell_type": "code",
   "execution_count": 36,
   "metadata": {},
   "outputs": [],
   "source": [
    "negative_dataset['is_mulberry_miRNA'] = 0"
   ]
  },
  {
   "cell_type": "code",
   "execution_count": 37,
   "metadata": {},
   "outputs": [
    {
     "data": {
      "text/html": [
       "<div>\n",
       "<style scoped>\n",
       "    .dataframe tbody tr th:only-of-type {\n",
       "        vertical-align: middle;\n",
       "    }\n",
       "\n",
       "    .dataframe tbody tr th {\n",
       "        vertical-align: top;\n",
       "    }\n",
       "\n",
       "    .dataframe thead th {\n",
       "        text-align: right;\n",
       "    }\n",
       "</style>\n",
       "<table border=\"1\" class=\"dataframe\">\n",
       "  <thead>\n",
       "    <tr style=\"text-align: right;\">\n",
       "      <th></th>\n",
       "      <th>seq_name</th>\n",
       "      <th>sequence</th>\n",
       "      <th>is_mulberry_miRNA</th>\n",
       "    </tr>\n",
       "  </thead>\n",
       "  <tbody>\n",
       "    <tr>\n",
       "      <th>0</th>\n",
       "      <td>&gt;cel-let-7-5p MIMAT0000001 Caenorhabditis eleg...</td>\n",
       "      <td>UGAGGUAGUAGGUUGUAUAGUU</td>\n",
       "      <td>0</td>\n",
       "    </tr>\n",
       "    <tr>\n",
       "      <th>1</th>\n",
       "      <td>&gt;cel-let-7-3p MIMAT0015091 Caenorhabditis eleg...</td>\n",
       "      <td>CUAUGCAAUUUUCUACCUUACC</td>\n",
       "      <td>0</td>\n",
       "    </tr>\n",
       "    <tr>\n",
       "      <th>2</th>\n",
       "      <td>&gt;cel-lin-4-5p MIMAT0000002 Caenorhabditis eleg...</td>\n",
       "      <td>UCCCUGAGACCUCAAGUGUGA</td>\n",
       "      <td>0</td>\n",
       "    </tr>\n",
       "    <tr>\n",
       "      <th>3</th>\n",
       "      <td>&gt;cel-lin-4-3p MIMAT0015092 Caenorhabditis eleg...</td>\n",
       "      <td>ACACCUGGGCUCUCCGGGUACC</td>\n",
       "      <td>0</td>\n",
       "    </tr>\n",
       "    <tr>\n",
       "      <th>4</th>\n",
       "      <td>&gt;cel-miR-1-5p MIMAT0020301 Caenorhabditis eleg...</td>\n",
       "      <td>CAUACUUCCUUACAUGCCCAUA</td>\n",
       "      <td>0</td>\n",
       "    </tr>\n",
       "  </tbody>\n",
       "</table>\n",
       "</div>"
      ],
      "text/plain": [
       "                                            seq_name                sequence  \\\n",
       "0  >cel-let-7-5p MIMAT0000001 Caenorhabditis eleg...  UGAGGUAGUAGGUUGUAUAGUU   \n",
       "1  >cel-let-7-3p MIMAT0015091 Caenorhabditis eleg...  CUAUGCAAUUUUCUACCUUACC   \n",
       "2  >cel-lin-4-5p MIMAT0000002 Caenorhabditis eleg...   UCCCUGAGACCUCAAGUGUGA   \n",
       "3  >cel-lin-4-3p MIMAT0015092 Caenorhabditis eleg...  ACACCUGGGCUCUCCGGGUACC   \n",
       "4  >cel-miR-1-5p MIMAT0020301 Caenorhabditis eleg...  CAUACUUCCUUACAUGCCCAUA   \n",
       "\n",
       "   is_mulberry_miRNA  \n",
       "0                  0  \n",
       "1                  0  \n",
       "2                  0  \n",
       "3                  0  \n",
       "4                  0  "
      ]
     },
     "execution_count": 37,
     "metadata": {},
     "output_type": "execute_result"
    }
   ],
   "source": [
    "negative_dataset[:5]"
   ]
  },
  {
   "cell_type": "code",
   "execution_count": 14,
   "metadata": {},
   "outputs": [],
   "source": [
    "header = pre_positive.iloc[0]\n",
    "pre_positive = pd.DataFrame(pre_positive.values[1:], columns = header)"
   ]
  },
  {
   "cell_type": "code",
   "execution_count": 15,
   "metadata": {},
   "outputs": [
    {
     "data": {
      "text/html": [
       "<div>\n",
       "<style scoped>\n",
       "    .dataframe tbody tr th:only-of-type {\n",
       "        vertical-align: middle;\n",
       "    }\n",
       "\n",
       "    .dataframe tbody tr th {\n",
       "        vertical-align: top;\n",
       "    }\n",
       "\n",
       "    .dataframe thead th {\n",
       "        text-align: right;\n",
       "    }\n",
       "</style>\n",
       "<table border=\"1\" class=\"dataframe\">\n",
       "  <thead>\n",
       "    <tr style=\"text-align: right;\">\n",
       "      <th></th>\n",
       "      <th>mi_rna</th>\n",
       "      <th>l_5p</th>\n",
       "      <th>l_3p</th>\n",
       "      <th>l_reads</th>\n",
       "      <th>f_5p</th>\n",
       "      <th>f_3p</th>\n",
       "      <th>f_reads</th>\n",
       "      <th>b_5p</th>\n",
       "      <th>b_3p</th>\n",
       "      <th>b_reads</th>\n",
       "      <th>seq_5p_5_3</th>\n",
       "      <th>seq_3p_5_3</th>\n",
       "      <th>seq_premiRNA_5_3</th>\n",
       "      <th>premirna_location</th>\n",
       "      <th>mfe_kcal_per_mol_of premirna</th>\n",
       "    </tr>\n",
       "  </thead>\n",
       "  <tbody>\n",
       "    <tr>\n",
       "      <th>0</th>\n",
       "      <td>mno-miRn1</td>\n",
       "      <td>1</td>\n",
       "      <td>0</td>\n",
       "      <td>1</td>\n",
       "      <td>2</td>\n",
       "      <td>0</td>\n",
       "      <td>2</td>\n",
       "      <td>10</td>\n",
       "      <td>0</td>\n",
       "      <td>10</td>\n",
       "      <td>CGTTCCCGTGGCGGTTGCAGGGC</td>\n",
       "      <td>-</td>\n",
       "      <td>TGTCGCCGTTCCCGTGGCGGTTGCAGGGCGAAGCTCTCTTCGTGAT...</td>\n",
       "      <td>C10452211:48:120:-</td>\n",
       "      <td>-46.6</td>\n",
       "    </tr>\n",
       "    <tr>\n",
       "      <th>1</th>\n",
       "      <td>mno-miRn2-1</td>\n",
       "      <td>18</td>\n",
       "      <td>0</td>\n",
       "      <td>18</td>\n",
       "      <td>11</td>\n",
       "      <td>0</td>\n",
       "      <td>11</td>\n",
       "      <td>5</td>\n",
       "      <td>0</td>\n",
       "      <td>5</td>\n",
       "      <td>TCTGATGGGGGCTGAAAATCA</td>\n",
       "      <td>-</td>\n",
       "      <td>GAAAGTAAGCTCTGATGGGGGCTGAAAATCAGCCCCCATCAGCCGC...</td>\n",
       "      <td>C10661187:10:94:-</td>\n",
       "      <td>-60.7</td>\n",
       "    </tr>\n",
       "    <tr>\n",
       "      <th>2</th>\n",
       "      <td>mno-miRn2-2</td>\n",
       "      <td>18</td>\n",
       "      <td>0</td>\n",
       "      <td>18</td>\n",
       "      <td>11</td>\n",
       "      <td>0</td>\n",
       "      <td>11</td>\n",
       "      <td>5</td>\n",
       "      <td>0</td>\n",
       "      <td>5</td>\n",
       "      <td>TCTGATGGGGGCTGAAAATCA</td>\n",
       "      <td>-</td>\n",
       "      <td>GATTGTCAGCTCTGATGGGGGCTGAAAATCAGTCCCCATCAGCCCC...</td>\n",
       "      <td>scaffold485:876133:876219:+</td>\n",
       "      <td>-57.1</td>\n",
       "    </tr>\n",
       "    <tr>\n",
       "      <th>3</th>\n",
       "      <td>mno-miRn2-3</td>\n",
       "      <td>18</td>\n",
       "      <td>0</td>\n",
       "      <td>18</td>\n",
       "      <td>11</td>\n",
       "      <td>0</td>\n",
       "      <td>11</td>\n",
       "      <td>5</td>\n",
       "      <td>0</td>\n",
       "      <td>5</td>\n",
       "      <td>TCTGATGGGGGCTGAAAATCA</td>\n",
       "      <td>-</td>\n",
       "      <td>TCAGCTCTGATGGGGGCTGAAAATCAGCCCCCATCAGCCCCCATGG...</td>\n",
       "      <td>C10789358:1:133:+</td>\n",
       "      <td>-98.8</td>\n",
       "    </tr>\n",
       "    <tr>\n",
       "      <th>4</th>\n",
       "      <td>mno-miRn2-4</td>\n",
       "      <td>0</td>\n",
       "      <td>18</td>\n",
       "      <td>18</td>\n",
       "      <td>0</td>\n",
       "      <td>11</td>\n",
       "      <td>11</td>\n",
       "      <td>0</td>\n",
       "      <td>5</td>\n",
       "      <td>5</td>\n",
       "      <td>-</td>\n",
       "      <td>TCTGATGGGGGCTGAAAATCA</td>\n",
       "      <td>CCCAATGGGGGCTGATTTTTAGCCCCCATTGGGGATGAAAGTCAGC...</td>\n",
       "      <td>scaffold1623:55201:55277:-</td>\n",
       "      <td>-60.9</td>\n",
       "    </tr>\n",
       "  </tbody>\n",
       "</table>\n",
       "</div>"
      ],
      "text/plain": [
       "0       mi_rna l_5p l_3p l_reads f_5p f_3p f_reads b_5p b_3p b_reads  \\\n",
       "0    mno-miRn1    1    0       1    2    0       2   10    0      10   \n",
       "1  mno-miRn2-1   18    0      18   11    0      11    5    0       5   \n",
       "2  mno-miRn2-2   18    0      18   11    0      11    5    0       5   \n",
       "3  mno-miRn2-3   18    0      18   11    0      11    5    0       5   \n",
       "4  mno-miRn2-4    0   18      18    0   11      11    0    5       5   \n",
       "\n",
       "0               seq_5p_5_3             seq_3p_5_3  \\\n",
       "0  CGTTCCCGTGGCGGTTGCAGGGC                      -   \n",
       "1    TCTGATGGGGGCTGAAAATCA                      -   \n",
       "2    TCTGATGGGGGCTGAAAATCA                      -   \n",
       "3    TCTGATGGGGGCTGAAAATCA                      -   \n",
       "4                        -  TCTGATGGGGGCTGAAAATCA   \n",
       "\n",
       "0                                   seq_premiRNA_5_3  \\\n",
       "0  TGTCGCCGTTCCCGTGGCGGTTGCAGGGCGAAGCTCTCTTCGTGAT...   \n",
       "1  GAAAGTAAGCTCTGATGGGGGCTGAAAATCAGCCCCCATCAGCCGC...   \n",
       "2  GATTGTCAGCTCTGATGGGGGCTGAAAATCAGTCCCCATCAGCCCC...   \n",
       "3  TCAGCTCTGATGGGGGCTGAAAATCAGCCCCCATCAGCCCCCATGG...   \n",
       "4  CCCAATGGGGGCTGATTTTTAGCCCCCATTGGGGATGAAAGTCAGC...   \n",
       "\n",
       "0            premirna_location mfe_kcal_per_mol_of premirna  \n",
       "0           C10452211:48:120:-                        -46.6  \n",
       "1            C10661187:10:94:-                        -60.7  \n",
       "2  scaffold485:876133:876219:+                        -57.1  \n",
       "3            C10789358:1:133:+                        -98.8  \n",
       "4   scaffold1623:55201:55277:-                        -60.9  "
      ]
     },
     "execution_count": 15,
     "metadata": {},
     "output_type": "execute_result"
    }
   ],
   "source": [
    "pre_positive[:5]"
   ]
  },
  {
   "cell_type": "code",
   "execution_count": 16,
   "metadata": {},
   "outputs": [],
   "source": [
    "p5_pos = pre_positive[['mi_rna','seq_5p_5_3']]\n",
    "p3_pos = pre_positive[['mi_rna','seq_3p_5_3']]"
   ]
  },
  {
   "cell_type": "code",
   "execution_count": 17,
   "metadata": {},
   "outputs": [],
   "source": [
    "p5_pos = p5_pos.loc[p5_pos['seq_5p_5_3'] != '-']\n",
    "p3_pos = p3_pos.loc[p3_pos['seq_3p_5_3'] != '-']"
   ]
  },
  {
   "cell_type": "code",
   "execution_count": 18,
   "metadata": {},
   "outputs": [],
   "source": [
    "p5_pos.columns = ['seq_name', 'sequence']\n",
    "p3_pos.columns = ['seq_name', 'sequence']"
   ]
  },
  {
   "cell_type": "code",
   "execution_count": 19,
   "metadata": {},
   "outputs": [],
   "source": [
    "positive_dataset = p5_pos.append(p3_pos, ignore_index = True)"
   ]
  },
  {
   "cell_type": "code",
   "execution_count": 20,
   "metadata": {},
   "outputs": [],
   "source": [
    "positive_dataset['is_mulberry_miRNA'] = 1"
   ]
  },
  {
   "cell_type": "code",
   "execution_count": 21,
   "metadata": {
    "scrolled": true
   },
   "outputs": [
    {
     "data": {
      "text/html": [
       "<div>\n",
       "<style scoped>\n",
       "    .dataframe tbody tr th:only-of-type {\n",
       "        vertical-align: middle;\n",
       "    }\n",
       "\n",
       "    .dataframe tbody tr th {\n",
       "        vertical-align: top;\n",
       "    }\n",
       "\n",
       "    .dataframe thead th {\n",
       "        text-align: right;\n",
       "    }\n",
       "</style>\n",
       "<table border=\"1\" class=\"dataframe\">\n",
       "  <thead>\n",
       "    <tr style=\"text-align: right;\">\n",
       "      <th></th>\n",
       "      <th>seq_name</th>\n",
       "      <th>sequence</th>\n",
       "      <th>is_mulberry_miRNA</th>\n",
       "    </tr>\n",
       "  </thead>\n",
       "  <tbody>\n",
       "    <tr>\n",
       "      <th>0</th>\n",
       "      <td>mno-miRn1</td>\n",
       "      <td>CGTTCCCGTGGCGGTTGCAGGGC</td>\n",
       "      <td>1</td>\n",
       "    </tr>\n",
       "    <tr>\n",
       "      <th>1</th>\n",
       "      <td>mno-miRn2-1</td>\n",
       "      <td>TCTGATGGGGGCTGAAAATCA</td>\n",
       "      <td>1</td>\n",
       "    </tr>\n",
       "    <tr>\n",
       "      <th>2</th>\n",
       "      <td>mno-miRn2-2</td>\n",
       "      <td>TCTGATGGGGGCTGAAAATCA</td>\n",
       "      <td>1</td>\n",
       "    </tr>\n",
       "    <tr>\n",
       "      <th>3</th>\n",
       "      <td>mno-miRn2-3</td>\n",
       "      <td>TCTGATGGGGGCTGAAAATCA</td>\n",
       "      <td>1</td>\n",
       "    </tr>\n",
       "    <tr>\n",
       "      <th>4</th>\n",
       "      <td>mno-miRn3</td>\n",
       "      <td>ATATGAGGAAAGAATGATGAT</td>\n",
       "      <td>1</td>\n",
       "    </tr>\n",
       "  </tbody>\n",
       "</table>\n",
       "</div>"
      ],
      "text/plain": [
       "      seq_name                 sequence  is_mulberry_miRNA\n",
       "0    mno-miRn1  CGTTCCCGTGGCGGTTGCAGGGC                  1\n",
       "1  mno-miRn2-1    TCTGATGGGGGCTGAAAATCA                  1\n",
       "2  mno-miRn2-2    TCTGATGGGGGCTGAAAATCA                  1\n",
       "3  mno-miRn2-3    TCTGATGGGGGCTGAAAATCA                  1\n",
       "4    mno-miRn3    ATATGAGGAAAGAATGATGAT                  1"
      ]
     },
     "execution_count": 21,
     "metadata": {},
     "output_type": "execute_result"
    }
   ],
   "source": [
    "positive_dataset[:5]"
   ]
  },
  {
   "cell_type": "code",
   "execution_count": 22,
   "metadata": {},
   "outputs": [
    {
     "name": "stdout",
     "output_type": "stream",
     "text": [
      "Total positive examples:  480\n"
     ]
    }
   ],
   "source": [
    "print(\"Total positive examples: \", len(positive_dataset))"
   ]
  },
  {
   "cell_type": "code",
   "execution_count": 23,
   "metadata": {},
   "outputs": [],
   "source": [
    "miRNA_dataset = positive_dataset.append(negative_dataset, ignore_index = True)"
   ]
  },
  {
   "cell_type": "code",
   "execution_count": 24,
   "metadata": {},
   "outputs": [],
   "source": [
    "miRNA_dataset = miRNA_dataset.sample(frac = 1).reset_index(drop = True)"
   ]
  },
  {
   "cell_type": "code",
   "execution_count": 25,
   "metadata": {},
   "outputs": [
    {
     "data": {
      "text/html": [
       "<div>\n",
       "<style scoped>\n",
       "    .dataframe tbody tr th:only-of-type {\n",
       "        vertical-align: middle;\n",
       "    }\n",
       "\n",
       "    .dataframe tbody tr th {\n",
       "        vertical-align: top;\n",
       "    }\n",
       "\n",
       "    .dataframe thead th {\n",
       "        text-align: right;\n",
       "    }\n",
       "</style>\n",
       "<table border=\"1\" class=\"dataframe\">\n",
       "  <thead>\n",
       "    <tr style=\"text-align: right;\">\n",
       "      <th></th>\n",
       "      <th>seq_name</th>\n",
       "      <th>sequence</th>\n",
       "      <th>is_mulberry_miRNA</th>\n",
       "    </tr>\n",
       "  </thead>\n",
       "  <tbody>\n",
       "    <tr>\n",
       "      <th>0</th>\n",
       "      <td>&gt;gma-miR4995 MIMAT0021013 Glycine max miR4995</td>\n",
       "      <td>AGGCAGUGGCUUGGUUAAGGG</td>\n",
       "      <td>0</td>\n",
       "    </tr>\n",
       "    <tr>\n",
       "      <th>1</th>\n",
       "      <td>&gt;cli-miR-138-2-3p MIMAT0038524 Columba livia m...</td>\n",
       "      <td>GCUAUUUCACUACACCAGGGU</td>\n",
       "      <td>0</td>\n",
       "    </tr>\n",
       "    <tr>\n",
       "      <th>2</th>\n",
       "      <td>&gt;aca-miR-5455-5p MIMAT0022081 Anolis carolinen...</td>\n",
       "      <td>UUGAAAAAGAAGUCCCUAGUUC</td>\n",
       "      <td>0</td>\n",
       "    </tr>\n",
       "    <tr>\n",
       "      <th>3</th>\n",
       "      <td>&gt;rno-miR-511-3p MIMAT0017358 Rattus norvegicus...</td>\n",
       "      <td>AAUGUGUAGCAAAAGACAGGA</td>\n",
       "      <td>0</td>\n",
       "    </tr>\n",
       "    <tr>\n",
       "      <th>4</th>\n",
       "      <td>&gt;csi-miR390a-5p MIMAT0014092 Citrus sinensis m...</td>\n",
       "      <td>AAGCUCAGGAGGGAUAGCGCC</td>\n",
       "      <td>0</td>\n",
       "    </tr>\n",
       "  </tbody>\n",
       "</table>\n",
       "</div>"
      ],
      "text/plain": [
       "                                            seq_name                sequence  \\\n",
       "0      >gma-miR4995 MIMAT0021013 Glycine max miR4995   AGGCAGUGGCUUGGUUAAGGG   \n",
       "1  >cli-miR-138-2-3p MIMAT0038524 Columba livia m...   GCUAUUUCACUACACCAGGGU   \n",
       "2  >aca-miR-5455-5p MIMAT0022081 Anolis carolinen...  UUGAAAAAGAAGUCCCUAGUUC   \n",
       "3  >rno-miR-511-3p MIMAT0017358 Rattus norvegicus...   AAUGUGUAGCAAAAGACAGGA   \n",
       "4  >csi-miR390a-5p MIMAT0014092 Citrus sinensis m...   AAGCUCAGGAGGGAUAGCGCC   \n",
       "\n",
       "   is_mulberry_miRNA  \n",
       "0                  0  \n",
       "1                  0  \n",
       "2                  0  \n",
       "3                  0  \n",
       "4                  0  "
      ]
     },
     "execution_count": 25,
     "metadata": {},
     "output_type": "execute_result"
    }
   ],
   "source": [
    "miRNA_dataset[:5]"
   ]
  },
  {
   "cell_type": "code",
   "execution_count": 26,
   "metadata": {},
   "outputs": [
    {
     "name": "stdout",
     "output_type": "stream",
     "text": [
      "Total datapoints:  49365\n"
     ]
    }
   ],
   "source": [
    "print(\"Total datapoints: \", len(miRNA_dataset))"
   ]
  },
  {
   "cell_type": "code",
   "execution_count": 27,
   "metadata": {},
   "outputs": [],
   "source": [
    "def seq_padding(seq, max_length):\n",
    "    l = len(seq)\n",
    "    n_pad = max_length - l\n",
    "    pad = n_pad * 'X'\n",
    "    seq_hat = seq + pad\n",
    "    return seq_hat"
   ]
  },
  {
   "cell_type": "code",
   "execution_count": 28,
   "metadata": {},
   "outputs": [],
   "source": [
    "def char2vec(dataset):\n",
    "    base2idx = {'A':1,'C':2, 'T':3,'G':4,'U':3,'X':5}\n",
    "    seq = dataset['sequence'].values\n",
    "    str_len = [len(s) for s in seq]\n",
    "    max_seq_len = max(str_len)\n",
    "    n_seqs = len(seq)\n",
    "    dset = np.zeros((n_seqs, max_seq_len))\n",
    "    padded_seqs = [seq_padding(x, max_seq_len) for x in seq]\n",
    "    for i, seg in enumerate(padded_seqs):\n",
    "        strs = list(seg)\n",
    "        vec = np.array([base2idx[i] for i in strs])\n",
    "        dset[i,:] = vec\n",
    "    return dset"
   ]
  },
  {
   "cell_type": "code",
   "execution_count": 142,
   "metadata": {},
   "outputs": [],
   "source": [
    "dset_matrix = char2vec(miRNA_dataset)"
   ]
  },
  {
   "cell_type": "code",
   "execution_count": 143,
   "metadata": {},
   "outputs": [
    {
     "data": {
      "text/plain": [
       "(49365, 34)"
      ]
     },
     "execution_count": 143,
     "metadata": {},
     "output_type": "execute_result"
    }
   ],
   "source": [
    "dset_matrix.shape"
   ]
  },
  {
   "cell_type": "code",
   "execution_count": 146,
   "metadata": {},
   "outputs": [],
   "source": [
    "labels = miRNA_dataset['is_mulberry_miRNA'].to_numpy()"
   ]
  },
  {
   "cell_type": "code",
   "execution_count": 149,
   "metadata": {},
   "outputs": [],
   "source": [
    "np.save('./dataset/labels.npy', labels)\n",
    "np.save('./dataset/data_matrix.npy', dset_matrix)"
   ]
  },
  {
   "cell_type": "code",
   "execution_count": 28,
   "metadata": {},
   "outputs": [],
   "source": [
    "seqs = negative_dataset['sequence'].values"
   ]
  },
  {
   "cell_type": "code",
   "execution_count": 38,
   "metadata": {},
   "outputs": [],
   "source": [
    "#Trim the negative dataset\n",
    "trimmed_neg = negative_dataset.sample(480, random_state=10)"
   ]
  },
  {
   "cell_type": "code",
   "execution_count": 39,
   "metadata": {},
   "outputs": [
    {
     "data": {
      "text/html": [
       "<div>\n",
       "<style scoped>\n",
       "    .dataframe tbody tr th:only-of-type {\n",
       "        vertical-align: middle;\n",
       "    }\n",
       "\n",
       "    .dataframe tbody tr th {\n",
       "        vertical-align: top;\n",
       "    }\n",
       "\n",
       "    .dataframe thead th {\n",
       "        text-align: right;\n",
       "    }\n",
       "</style>\n",
       "<table border=\"1\" class=\"dataframe\">\n",
       "  <thead>\n",
       "    <tr style=\"text-align: right;\">\n",
       "      <th></th>\n",
       "      <th>seq_name</th>\n",
       "      <th>sequence</th>\n",
       "      <th>is_mulberry_miRNA</th>\n",
       "    </tr>\n",
       "  </thead>\n",
       "  <tbody>\n",
       "    <tr>\n",
       "      <th>31845</th>\n",
       "      <td>&gt;ppc-miR-8336-5p MIMAT0033218 Pristionchus pac...</td>\n",
       "      <td>UACUUGAACUGCAUAUUUCGGA</td>\n",
       "      <td>0</td>\n",
       "    </tr>\n",
       "    <tr>\n",
       "      <th>16521</th>\n",
       "      <td>&gt;aly-miR3443-5p MIMAT0017719 Arabidopsis lyrat...</td>\n",
       "      <td>UUCUAAUCCCGCCAUGCACCG</td>\n",
       "      <td>0</td>\n",
       "    </tr>\n",
       "    <tr>\n",
       "      <th>6566</th>\n",
       "      <td>&gt;ppt-miR1063f MIMAT0005187 Physcomitrella pate...</td>\n",
       "      <td>CAUCUUGGAGUACUGCAUCUU</td>\n",
       "      <td>0</td>\n",
       "    </tr>\n",
       "    <tr>\n",
       "      <th>40042</th>\n",
       "      <td>&gt;hsa-miR-10396a-5p MIMAT0041623 Homo sapiens m...</td>\n",
       "      <td>GGCGGGGCUCGGAGCCGGG</td>\n",
       "      <td>0</td>\n",
       "    </tr>\n",
       "    <tr>\n",
       "      <th>25689</th>\n",
       "      <td>&gt;gga-miR-6710-3p MIMAT0025820 Gallus gallus mi...</td>\n",
       "      <td>AAACUGUUCUCUUCCAUCUAG</td>\n",
       "      <td>0</td>\n",
       "    </tr>\n",
       "    <tr>\n",
       "      <th>26814</th>\n",
       "      <td>&gt;cme-miR396c MIMAT0026146 Cucumis melo miR396c</td>\n",
       "      <td>UUCCACAGCUUUCUUGAACUU</td>\n",
       "      <td>0</td>\n",
       "    </tr>\n",
       "    <tr>\n",
       "      <th>28585</th>\n",
       "      <td>&gt;ipu-miR-99b MIMAT0029533 Ictalurus punctatus ...</td>\n",
       "      <td>AACCCGUAGAUCCGAUCUUGUGA</td>\n",
       "      <td>0</td>\n",
       "    </tr>\n",
       "    <tr>\n",
       "      <th>12806</th>\n",
       "      <td>&gt;bta-miR-2468 MIMAT0012058 Bos taurus miR-2468</td>\n",
       "      <td>AUAGGAACAUGGAAGAUUGUCA</td>\n",
       "      <td>0</td>\n",
       "    </tr>\n",
       "    <tr>\n",
       "      <th>24768</th>\n",
       "      <td>&gt;gma-miR166o MIMAT0024897 Glycine max miR166o</td>\n",
       "      <td>UCGGACCAGGCUUCAUUCCCC</td>\n",
       "      <td>0</td>\n",
       "    </tr>\n",
       "    <tr>\n",
       "      <th>31208</th>\n",
       "      <td>&gt;ssa-miR-27c-2-5p MIMAT0032580 Salmo salar miR...</td>\n",
       "      <td>AGAGCUUAGCUAAUUGGUGAGC</td>\n",
       "      <td>0</td>\n",
       "    </tr>\n",
       "  </tbody>\n",
       "</table>\n",
       "</div>"
      ],
      "text/plain": [
       "                                                seq_name  \\\n",
       "31845  >ppc-miR-8336-5p MIMAT0033218 Pristionchus pac...   \n",
       "16521  >aly-miR3443-5p MIMAT0017719 Arabidopsis lyrat...   \n",
       "6566   >ppt-miR1063f MIMAT0005187 Physcomitrella pate...   \n",
       "40042  >hsa-miR-10396a-5p MIMAT0041623 Homo sapiens m...   \n",
       "25689  >gga-miR-6710-3p MIMAT0025820 Gallus gallus mi...   \n",
       "26814     >cme-miR396c MIMAT0026146 Cucumis melo miR396c   \n",
       "28585  >ipu-miR-99b MIMAT0029533 Ictalurus punctatus ...   \n",
       "12806     >bta-miR-2468 MIMAT0012058 Bos taurus miR-2468   \n",
       "24768      >gma-miR166o MIMAT0024897 Glycine max miR166o   \n",
       "31208  >ssa-miR-27c-2-5p MIMAT0032580 Salmo salar miR...   \n",
       "\n",
       "                      sequence  is_mulberry_miRNA  \n",
       "31845   UACUUGAACUGCAUAUUUCGGA                  0  \n",
       "16521    UUCUAAUCCCGCCAUGCACCG                  0  \n",
       "6566     CAUCUUGGAGUACUGCAUCUU                  0  \n",
       "40042      GGCGGGGCUCGGAGCCGGG                  0  \n",
       "25689    AAACUGUUCUCUUCCAUCUAG                  0  \n",
       "26814    UUCCACAGCUUUCUUGAACUU                  0  \n",
       "28585  AACCCGUAGAUCCGAUCUUGUGA                  0  \n",
       "12806   AUAGGAACAUGGAAGAUUGUCA                  0  \n",
       "24768    UCGGACCAGGCUUCAUUCCCC                  0  \n",
       "31208   AGAGCUUAGCUAAUUGGUGAGC                  0  "
      ]
     },
     "execution_count": 39,
     "metadata": {},
     "output_type": "execute_result"
    }
   ],
   "source": [
    "trimmed_neg[:10]"
   ]
  },
  {
   "cell_type": "code",
   "execution_count": 40,
   "metadata": {},
   "outputs": [
    {
     "data": {
      "text/html": [
       "<div>\n",
       "<style scoped>\n",
       "    .dataframe tbody tr th:only-of-type {\n",
       "        vertical-align: middle;\n",
       "    }\n",
       "\n",
       "    .dataframe tbody tr th {\n",
       "        vertical-align: top;\n",
       "    }\n",
       "\n",
       "    .dataframe thead th {\n",
       "        text-align: right;\n",
       "    }\n",
       "</style>\n",
       "<table border=\"1\" class=\"dataframe\">\n",
       "  <thead>\n",
       "    <tr style=\"text-align: right;\">\n",
       "      <th></th>\n",
       "      <th>seq_name</th>\n",
       "      <th>sequence</th>\n",
       "      <th>is_mulberry_miRNA</th>\n",
       "    </tr>\n",
       "  </thead>\n",
       "  <tbody>\n",
       "    <tr>\n",
       "      <th>0</th>\n",
       "      <td>&gt;hsa-miR-647 MIMAT0003317 Homo sapiens miR-647</td>\n",
       "      <td>GUGGCUGCACUCACUUCCUUC</td>\n",
       "      <td>0</td>\n",
       "    </tr>\n",
       "    <tr>\n",
       "      <th>1</th>\n",
       "      <td>mno-miRn200</td>\n",
       "      <td>AAGTGACAGAAAGAGTGATGCTA</td>\n",
       "      <td>1</td>\n",
       "    </tr>\n",
       "    <tr>\n",
       "      <th>2</th>\n",
       "      <td>&gt;eca-miR-1912 MIMAT0013201 Equus caballus miR-...</td>\n",
       "      <td>UACCCAGAGCGUGCAGUGUGAA</td>\n",
       "      <td>0</td>\n",
       "    </tr>\n",
       "    <tr>\n",
       "      <th>3</th>\n",
       "      <td>mno-miRn88</td>\n",
       "      <td>TCTGATTTAGAATTATGGTT</td>\n",
       "      <td>1</td>\n",
       "    </tr>\n",
       "    <tr>\n",
       "      <th>4</th>\n",
       "      <td>mno-miRn112</td>\n",
       "      <td>TCAGTGAAGTGAACGAGGCCT</td>\n",
       "      <td>1</td>\n",
       "    </tr>\n",
       "  </tbody>\n",
       "</table>\n",
       "</div>"
      ],
      "text/plain": [
       "                                            seq_name                 sequence  \\\n",
       "0     >hsa-miR-647 MIMAT0003317 Homo sapiens miR-647    GUGGCUGCACUCACUUCCUUC   \n",
       "1                                        mno-miRn200  AAGTGACAGAAAGAGTGATGCTA   \n",
       "2  >eca-miR-1912 MIMAT0013201 Equus caballus miR-...   UACCCAGAGCGUGCAGUGUGAA   \n",
       "3                                         mno-miRn88     TCTGATTTAGAATTATGGTT   \n",
       "4                                        mno-miRn112    TCAGTGAAGTGAACGAGGCCT   \n",
       "\n",
       "   is_mulberry_miRNA  \n",
       "0                  0  \n",
       "1                  1  \n",
       "2                  0  \n",
       "3                  1  \n",
       "4                  1  "
      ]
     },
     "execution_count": 40,
     "metadata": {},
     "output_type": "execute_result"
    }
   ],
   "source": [
    "miRNA_dataset_trimmed = positive_dataset.append(trimmed_neg, ignore_index = True)\n",
    "miRNA_dataset_trimmed = miRNA_dataset_trimmed.sample(frac = 1).reset_index(drop = True)\n",
    "miRNA_dataset_trimmed[:5]"
   ]
  },
  {
   "cell_type": "code",
   "execution_count": 41,
   "metadata": {},
   "outputs": [
    {
     "name": "stdout",
     "output_type": "stream",
     "text": [
      "Total examples in trimmed dataset:  960\n"
     ]
    }
   ],
   "source": [
    "print(\"Total examples in trimmed dataset: \", len(miRNA_dataset_trimmed))"
   ]
  },
  {
   "cell_type": "code",
   "execution_count": 42,
   "metadata": {},
   "outputs": [],
   "source": [
    "dset_mat_trimmed = char2vec(miRNA_dataset_trimmed)"
   ]
  },
  {
   "cell_type": "code",
   "execution_count": 43,
   "metadata": {},
   "outputs": [
    {
     "data": {
      "text/plain": [
       "(960, 27)"
      ]
     },
     "execution_count": 43,
     "metadata": {},
     "output_type": "execute_result"
    }
   ],
   "source": [
    "dset_mat_trimmed.shape"
   ]
  },
  {
   "cell_type": "code",
   "execution_count": 44,
   "metadata": {},
   "outputs": [],
   "source": [
    "labels_trimmed = miRNA_dataset_trimmed['is_mulberry_miRNA'].to_numpy()"
   ]
  },
  {
   "cell_type": "code",
   "execution_count": 45,
   "metadata": {},
   "outputs": [],
   "source": [
    "np.save('./dataset/labels_trimmed_equal.npy', labels_trimmed)\n",
    "np.save('./dataset/data_matrix_trimmed_equal.npy', dset_mat_trimmed)"
   ]
  },
  {
   "cell_type": "code",
   "execution_count": null,
   "metadata": {},
   "outputs": [],
   "source": []
  }
 ],
 "metadata": {
  "kernelspec": {
   "display_name": "Python 3",
   "language": "python",
   "name": "python3"
  },
  "language_info": {
   "codemirror_mode": {
    "name": "ipython",
    "version": 3
   },
   "file_extension": ".py",
   "mimetype": "text/x-python",
   "name": "python",
   "nbconvert_exporter": "python",
   "pygments_lexer": "ipython3",
   "version": "3.7.7"
  }
 },
 "nbformat": 4,
 "nbformat_minor": 2
}
