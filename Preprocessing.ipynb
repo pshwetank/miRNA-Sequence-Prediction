{
 "cells": [
  {
   "cell_type": "code",
   "execution_count": 2,
   "metadata": {},
   "outputs": [],
   "source": [
    "import numpy as np\n",
    "import pandas as pd\n",
    "from sklearn.metrics import accuracy_score, classification_report\n",
    "from sklearn.model_selection import train_test_split"
   ]
  },
  {
   "cell_type": "code",
   "execution_count": 25,
   "metadata": {},
   "outputs": [],
   "source": [
    "pre_negative = pd.read_csv('dataset/human_MiRNA_DATA.csv')\n",
    "pre_negative.columns = ['seq_name']\n",
    "pre_positive = pd.read_csv('dataset/')"
   ]
  },
  {
   "cell_type": "code",
   "execution_count": 26,
   "metadata": {},
   "outputs": [
    {
     "data": {
      "text/html": [
       "<div>\n",
       "<style scoped>\n",
       "    .dataframe tbody tr th:only-of-type {\n",
       "        vertical-align: middle;\n",
       "    }\n",
       "\n",
       "    .dataframe tbody tr th {\n",
       "        vertical-align: top;\n",
       "    }\n",
       "\n",
       "    .dataframe thead th {\n",
       "        text-align: right;\n",
       "    }\n",
       "</style>\n",
       "<table border=\"1\" class=\"dataframe\">\n",
       "  <thead>\n",
       "    <tr style=\"text-align: right;\">\n",
       "      <th></th>\n",
       "      <th>seq_name</th>\n",
       "    </tr>\n",
       "  </thead>\n",
       "  <tbody>\n",
       "    <tr>\n",
       "      <th>0</th>\n",
       "      <td>&gt;cel-let-7-5p MIMAT0000001 Caenorhabditis eleg...</td>\n",
       "    </tr>\n",
       "    <tr>\n",
       "      <th>1</th>\n",
       "      <td>UGAGGUAGUAGGUUGUAUAGUU</td>\n",
       "    </tr>\n",
       "    <tr>\n",
       "      <th>2</th>\n",
       "      <td>&gt;cel-let-7-3p MIMAT0015091 Caenorhabditis eleg...</td>\n",
       "    </tr>\n",
       "    <tr>\n",
       "      <th>3</th>\n",
       "      <td>CUAUGCAAUUUUCUACCUUACC</td>\n",
       "    </tr>\n",
       "    <tr>\n",
       "      <th>4</th>\n",
       "      <td>&gt;cel-lin-4-5p MIMAT0000002 Caenorhabditis eleg...</td>\n",
       "    </tr>\n",
       "    <tr>\n",
       "      <th>5</th>\n",
       "      <td>UCCCUGAGACCUCAAGUGUGA</td>\n",
       "    </tr>\n",
       "    <tr>\n",
       "      <th>6</th>\n",
       "      <td>&gt;cel-lin-4-3p MIMAT0015092 Caenorhabditis eleg...</td>\n",
       "    </tr>\n",
       "    <tr>\n",
       "      <th>7</th>\n",
       "      <td>ACACCUGGGCUCUCCGGGUACC</td>\n",
       "    </tr>\n",
       "    <tr>\n",
       "      <th>8</th>\n",
       "      <td>&gt;cel-miR-1-5p MIMAT0020301 Caenorhabditis eleg...</td>\n",
       "    </tr>\n",
       "    <tr>\n",
       "      <th>9</th>\n",
       "      <td>CAUACUUCCUUACAUGCCCAUA</td>\n",
       "    </tr>\n",
       "  </tbody>\n",
       "</table>\n",
       "</div>"
      ],
      "text/plain": [
       "                                            seq_name\n",
       "0  >cel-let-7-5p MIMAT0000001 Caenorhabditis eleg...\n",
       "1                             UGAGGUAGUAGGUUGUAUAGUU\n",
       "2  >cel-let-7-3p MIMAT0015091 Caenorhabditis eleg...\n",
       "3                             CUAUGCAAUUUUCUACCUUACC\n",
       "4  >cel-lin-4-5p MIMAT0000002 Caenorhabditis eleg...\n",
       "5                              UCCCUGAGACCUCAAGUGUGA\n",
       "6  >cel-lin-4-3p MIMAT0015092 Caenorhabditis eleg...\n",
       "7                             ACACCUGGGCUCUCCGGGUACC\n",
       "8  >cel-miR-1-5p MIMAT0020301 Caenorhabditis eleg...\n",
       "9                             CAUACUUCCUUACAUGCCCAUA"
      ]
     },
     "execution_count": 26,
     "metadata": {},
     "output_type": "execute_result"
    }
   ],
   "source": [
    "pre_negative[:10]"
   ]
  },
  {
   "cell_type": "code",
   "execution_count": 29,
   "metadata": {},
   "outputs": [],
   "source": [
    "pre_negative['is_seq_name'] = pre_negative['seq_name'].str.find('>')"
   ]
  },
  {
   "cell_type": "code",
   "execution_count": 30,
   "metadata": {},
   "outputs": [
    {
     "data": {
      "text/html": [
       "<div>\n",
       "<style scoped>\n",
       "    .dataframe tbody tr th:only-of-type {\n",
       "        vertical-align: middle;\n",
       "    }\n",
       "\n",
       "    .dataframe tbody tr th {\n",
       "        vertical-align: top;\n",
       "    }\n",
       "\n",
       "    .dataframe thead th {\n",
       "        text-align: right;\n",
       "    }\n",
       "</style>\n",
       "<table border=\"1\" class=\"dataframe\">\n",
       "  <thead>\n",
       "    <tr style=\"text-align: right;\">\n",
       "      <th></th>\n",
       "      <th>seq_name</th>\n",
       "      <th>is_seq_name</th>\n",
       "    </tr>\n",
       "  </thead>\n",
       "  <tbody>\n",
       "    <tr>\n",
       "      <th>0</th>\n",
       "      <td>&gt;cel-let-7-5p MIMAT0000001 Caenorhabditis eleg...</td>\n",
       "      <td>0</td>\n",
       "    </tr>\n",
       "    <tr>\n",
       "      <th>1</th>\n",
       "      <td>UGAGGUAGUAGGUUGUAUAGUU</td>\n",
       "      <td>-1</td>\n",
       "    </tr>\n",
       "    <tr>\n",
       "      <th>2</th>\n",
       "      <td>&gt;cel-let-7-3p MIMAT0015091 Caenorhabditis eleg...</td>\n",
       "      <td>0</td>\n",
       "    </tr>\n",
       "    <tr>\n",
       "      <th>3</th>\n",
       "      <td>CUAUGCAAUUUUCUACCUUACC</td>\n",
       "      <td>-1</td>\n",
       "    </tr>\n",
       "    <tr>\n",
       "      <th>4</th>\n",
       "      <td>&gt;cel-lin-4-5p MIMAT0000002 Caenorhabditis eleg...</td>\n",
       "      <td>0</td>\n",
       "    </tr>\n",
       "    <tr>\n",
       "      <th>5</th>\n",
       "      <td>UCCCUGAGACCUCAAGUGUGA</td>\n",
       "      <td>-1</td>\n",
       "    </tr>\n",
       "    <tr>\n",
       "      <th>6</th>\n",
       "      <td>&gt;cel-lin-4-3p MIMAT0015092 Caenorhabditis eleg...</td>\n",
       "      <td>0</td>\n",
       "    </tr>\n",
       "    <tr>\n",
       "      <th>7</th>\n",
       "      <td>ACACCUGGGCUCUCCGGGUACC</td>\n",
       "      <td>-1</td>\n",
       "    </tr>\n",
       "    <tr>\n",
       "      <th>8</th>\n",
       "      <td>&gt;cel-miR-1-5p MIMAT0020301 Caenorhabditis eleg...</td>\n",
       "      <td>0</td>\n",
       "    </tr>\n",
       "    <tr>\n",
       "      <th>9</th>\n",
       "      <td>CAUACUUCCUUACAUGCCCAUA</td>\n",
       "      <td>-1</td>\n",
       "    </tr>\n",
       "  </tbody>\n",
       "</table>\n",
       "</div>"
      ],
      "text/plain": [
       "                                            seq_name  is_seq_name\n",
       "0  >cel-let-7-5p MIMAT0000001 Caenorhabditis eleg...            0\n",
       "1                             UGAGGUAGUAGGUUGUAUAGUU           -1\n",
       "2  >cel-let-7-3p MIMAT0015091 Caenorhabditis eleg...            0\n",
       "3                             CUAUGCAAUUUUCUACCUUACC           -1\n",
       "4  >cel-lin-4-5p MIMAT0000002 Caenorhabditis eleg...            0\n",
       "5                              UCCCUGAGACCUCAAGUGUGA           -1\n",
       "6  >cel-lin-4-3p MIMAT0015092 Caenorhabditis eleg...            0\n",
       "7                             ACACCUGGGCUCUCCGGGUACC           -1\n",
       "8  >cel-miR-1-5p MIMAT0020301 Caenorhabditis eleg...            0\n",
       "9                             CAUACUUCCUUACAUGCCCAUA           -1"
      ]
     },
     "execution_count": 30,
     "metadata": {},
     "output_type": "execute_result"
    }
   ],
   "source": [
    "pre_negative[:10]"
   ]
  },
  {
   "cell_type": "code",
   "execution_count": 35,
   "metadata": {},
   "outputs": [],
   "source": [
    "seq_names = pre_negative.loc[pre_negative['is_seq_name'] == 0]\n",
    "seq = pre_negative.loc[pre_negative['is_seq_name'] == -1]\n",
    "seq_names = seq_names['seq_name']\n",
    "seq = seq['seq_name']"
   ]
  },
  {
   "cell_type": "code",
   "execution_count": 36,
   "metadata": {},
   "outputs": [
    {
     "data": {
      "text/plain": [
       "0     >cel-let-7-5p MIMAT0000001 Caenorhabditis eleg...\n",
       "2     >cel-let-7-3p MIMAT0015091 Caenorhabditis eleg...\n",
       "4     >cel-lin-4-5p MIMAT0000002 Caenorhabditis eleg...\n",
       "6     >cel-lin-4-3p MIMAT0015092 Caenorhabditis eleg...\n",
       "8     >cel-miR-1-5p MIMAT0020301 Caenorhabditis eleg...\n",
       "10    >cel-miR-1-3p MIMAT0000003 Caenorhabditis eleg...\n",
       "12    >cel-miR-2-5p MIMAT0020302 Caenorhabditis eleg...\n",
       "14    >cel-miR-2-3p MIMAT0000004 Caenorhabditis eleg...\n",
       "16    >cel-miR-34-5p MIMAT0000005 Caenorhabditis ele...\n",
       "18    >cel-miR-34-3p MIMAT0015093 Caenorhabditis ele...\n",
       "Name: seq_name, dtype: object"
      ]
     },
     "execution_count": 36,
     "metadata": {},
     "output_type": "execute_result"
    }
   ],
   "source": [
    "seq_names[:10]"
   ]
  },
  {
   "cell_type": "code",
   "execution_count": 37,
   "metadata": {},
   "outputs": [
    {
     "data": {
      "text/plain": [
       "1      UGAGGUAGUAGGUUGUAUAGUU\n",
       "3      CUAUGCAAUUUUCUACCUUACC\n",
       "5       UCCCUGAGACCUCAAGUGUGA\n",
       "7      ACACCUGGGCUCUCCGGGUACC\n",
       "9      CAUACUUCCUUACAUGCCCAUA\n",
       "11      UGGAAUGUAAAGAAGUAUGUA\n",
       "13     CAUCAAAGCGGUGGUUGAUGUG\n",
       "15    UAUCACAGCCAGCUUUGAUGUGC\n",
       "17     AGGCAGUGUGGUUAGCUGGUUG\n",
       "19     ACGGCUACCUUCACUGCCACCC\n",
       "Name: seq_name, dtype: object"
      ]
     },
     "execution_count": 37,
     "metadata": {},
     "output_type": "execute_result"
    }
   ],
   "source": [
    "seq[:10]"
   ]
  },
  {
   "cell_type": "code",
   "execution_count": 43,
   "metadata": {},
   "outputs": [],
   "source": [
    "negative_dataset = pd.DataFrame(columns = ['seq_name', 'sequence', 'is_miRNA'])"
   ]
  },
  {
   "cell_type": "code",
   "execution_count": 44,
   "metadata": {},
   "outputs": [],
   "source": [
    "negative_dataset['seq_name'] = seq_names.to_list()"
   ]
  },
  {
   "cell_type": "code",
   "execution_count": 45,
   "metadata": {},
   "outputs": [],
   "source": [
    "negative_dataset['sequence'] = seq.to_list()"
   ]
  },
  {
   "cell_type": "code",
   "execution_count": 46,
   "metadata": {},
   "outputs": [],
   "source": [
    "negative_dataset['is_miRNA'] = 0"
   ]
  },
  {
   "cell_type": "code",
   "execution_count": 47,
   "metadata": {},
   "outputs": [
    {
     "data": {
      "text/html": [
       "<div>\n",
       "<style scoped>\n",
       "    .dataframe tbody tr th:only-of-type {\n",
       "        vertical-align: middle;\n",
       "    }\n",
       "\n",
       "    .dataframe tbody tr th {\n",
       "        vertical-align: top;\n",
       "    }\n",
       "\n",
       "    .dataframe thead th {\n",
       "        text-align: right;\n",
       "    }\n",
       "</style>\n",
       "<table border=\"1\" class=\"dataframe\">\n",
       "  <thead>\n",
       "    <tr style=\"text-align: right;\">\n",
       "      <th></th>\n",
       "      <th>seq_name</th>\n",
       "      <th>sequence</th>\n",
       "      <th>is_miRNA</th>\n",
       "    </tr>\n",
       "  </thead>\n",
       "  <tbody>\n",
       "    <tr>\n",
       "      <th>0</th>\n",
       "      <td>&gt;cel-let-7-5p MIMAT0000001 Caenorhabditis eleg...</td>\n",
       "      <td>UGAGGUAGUAGGUUGUAUAGUU</td>\n",
       "      <td>0</td>\n",
       "    </tr>\n",
       "    <tr>\n",
       "      <th>1</th>\n",
       "      <td>&gt;cel-let-7-3p MIMAT0015091 Caenorhabditis eleg...</td>\n",
       "      <td>CUAUGCAAUUUUCUACCUUACC</td>\n",
       "      <td>0</td>\n",
       "    </tr>\n",
       "    <tr>\n",
       "      <th>2</th>\n",
       "      <td>&gt;cel-lin-4-5p MIMAT0000002 Caenorhabditis eleg...</td>\n",
       "      <td>UCCCUGAGACCUCAAGUGUGA</td>\n",
       "      <td>0</td>\n",
       "    </tr>\n",
       "    <tr>\n",
       "      <th>3</th>\n",
       "      <td>&gt;cel-lin-4-3p MIMAT0015092 Caenorhabditis eleg...</td>\n",
       "      <td>ACACCUGGGCUCUCCGGGUACC</td>\n",
       "      <td>0</td>\n",
       "    </tr>\n",
       "    <tr>\n",
       "      <th>4</th>\n",
       "      <td>&gt;cel-miR-1-5p MIMAT0020301 Caenorhabditis eleg...</td>\n",
       "      <td>CAUACUUCCUUACAUGCCCAUA</td>\n",
       "      <td>0</td>\n",
       "    </tr>\n",
       "    <tr>\n",
       "      <th>5</th>\n",
       "      <td>&gt;cel-miR-1-3p MIMAT0000003 Caenorhabditis eleg...</td>\n",
       "      <td>UGGAAUGUAAAGAAGUAUGUA</td>\n",
       "      <td>0</td>\n",
       "    </tr>\n",
       "    <tr>\n",
       "      <th>6</th>\n",
       "      <td>&gt;cel-miR-2-5p MIMAT0020302 Caenorhabditis eleg...</td>\n",
       "      <td>CAUCAAAGCGGUGGUUGAUGUG</td>\n",
       "      <td>0</td>\n",
       "    </tr>\n",
       "    <tr>\n",
       "      <th>7</th>\n",
       "      <td>&gt;cel-miR-2-3p MIMAT0000004 Caenorhabditis eleg...</td>\n",
       "      <td>UAUCACAGCCAGCUUUGAUGUGC</td>\n",
       "      <td>0</td>\n",
       "    </tr>\n",
       "    <tr>\n",
       "      <th>8</th>\n",
       "      <td>&gt;cel-miR-34-5p MIMAT0000005 Caenorhabditis ele...</td>\n",
       "      <td>AGGCAGUGUGGUUAGCUGGUUG</td>\n",
       "      <td>0</td>\n",
       "    </tr>\n",
       "    <tr>\n",
       "      <th>9</th>\n",
       "      <td>&gt;cel-miR-34-3p MIMAT0015093 Caenorhabditis ele...</td>\n",
       "      <td>ACGGCUACCUUCACUGCCACCC</td>\n",
       "      <td>0</td>\n",
       "    </tr>\n",
       "  </tbody>\n",
       "</table>\n",
       "</div>"
      ],
      "text/plain": [
       "                                            seq_name                 sequence  \\\n",
       "0  >cel-let-7-5p MIMAT0000001 Caenorhabditis eleg...   UGAGGUAGUAGGUUGUAUAGUU   \n",
       "1  >cel-let-7-3p MIMAT0015091 Caenorhabditis eleg...   CUAUGCAAUUUUCUACCUUACC   \n",
       "2  >cel-lin-4-5p MIMAT0000002 Caenorhabditis eleg...    UCCCUGAGACCUCAAGUGUGA   \n",
       "3  >cel-lin-4-3p MIMAT0015092 Caenorhabditis eleg...   ACACCUGGGCUCUCCGGGUACC   \n",
       "4  >cel-miR-1-5p MIMAT0020301 Caenorhabditis eleg...   CAUACUUCCUUACAUGCCCAUA   \n",
       "5  >cel-miR-1-3p MIMAT0000003 Caenorhabditis eleg...    UGGAAUGUAAAGAAGUAUGUA   \n",
       "6  >cel-miR-2-5p MIMAT0020302 Caenorhabditis eleg...   CAUCAAAGCGGUGGUUGAUGUG   \n",
       "7  >cel-miR-2-3p MIMAT0000004 Caenorhabditis eleg...  UAUCACAGCCAGCUUUGAUGUGC   \n",
       "8  >cel-miR-34-5p MIMAT0000005 Caenorhabditis ele...   AGGCAGUGUGGUUAGCUGGUUG   \n",
       "9  >cel-miR-34-3p MIMAT0015093 Caenorhabditis ele...   ACGGCUACCUUCACUGCCACCC   \n",
       "\n",
       "   is_miRNA  \n",
       "0         0  \n",
       "1         0  \n",
       "2         0  \n",
       "3         0  \n",
       "4         0  \n",
       "5         0  \n",
       "6         0  \n",
       "7         0  \n",
       "8         0  \n",
       "9         0  "
      ]
     },
     "execution_count": 47,
     "metadata": {},
     "output_type": "execute_result"
    }
   ],
   "source": [
    "negative_dataset[:10]"
   ]
  },
  {
   "cell_type": "code",
   "execution_count": null,
   "metadata": {},
   "outputs": [],
   "source": [
    "def conver"
   ]
  }
 ],
 "metadata": {
  "kernelspec": {
   "display_name": "Python 3",
   "language": "python",
   "name": "python3"
  },
  "language_info": {
   "codemirror_mode": {
    "name": "ipython",
    "version": 3
   },
   "file_extension": ".py",
   "mimetype": "text/x-python",
   "name": "python",
   "nbconvert_exporter": "python",
   "pygments_lexer": "ipython3",
   "version": "3.7.7"
  }
 },
 "nbformat": 4,
 "nbformat_minor": 2
}
